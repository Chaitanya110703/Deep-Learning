{
 "cells": [
  {
   "cell_type": "code",
   "execution_count": 1,
   "id": "65bd39d1-4370-4cf4-a0d8-54a97c73d009",
   "metadata": {},
   "outputs": [
    {
     "name": "stderr",
     "output_type": "stream",
     "text": [
      "2024-07-29 21:23:05.801340: I tensorflow/core/platform/cpu_feature_guard.cc:193] This TensorFlow binary is optimized with oneAPI Deep Neural Network Library (oneDNN) to use the following CPU instructions in performance-critical operations:  AVX2 FMA\n",
      "To enable them in other operations, rebuild TensorFlow with the appropriate compiler flags.\n",
      "2024-07-29 21:23:06.992920: I tensorflow/c/logging.cc:34] Successfully opened dynamic library libdirectml.d6f03b303ac3c4f2eeb8ca631688c9757b361310.so\n",
      "2024-07-29 21:23:06.993077: I tensorflow/c/logging.cc:34] Successfully opened dynamic library libdxcore.so\n",
      "2024-07-29 21:23:07.014314: I tensorflow/c/logging.cc:34] Successfully opened dynamic library libd3d12.so\n",
      "2024-07-29 21:23:10.091432: I tensorflow/c/logging.cc:34] DirectML device enumeration: found 2 compatible adapters.\n"
     ]
    }
   ],
   "source": [
    "import tensorflow as tf"
   ]
  },
  {
   "cell_type": "code",
   "execution_count": 2,
   "id": "e163f31e-276c-43a5-9bd4-425ec9af090b",
   "metadata": {},
   "outputs": [],
   "source": [
    "import os"
   ]
  },
  {
   "cell_type": "code",
   "execution_count": 3,
   "id": "2d190f3d-a10b-47f2-9e7a-cbfe4c661d44",
   "metadata": {},
   "outputs": [],
   "source": [
    "text = \"\"\"About the Program\n",
    "What is the course fee for  Data Science Mentorship Program (DSMP 2023)\n",
    "The course follows a monthly subscription model where you have to make monthly payments of Rs 799/month.\n",
    "What is the total duration of the course?\n",
    "The total duration of the course is 7 months. So the total course fee becomes 799*7 = Rs 5600(approx.)\n",
    "What is the syllabus of the mentorship program?\n",
    "We will be covering the following modules:\n",
    "Python Fundamentals\n",
    "Python libraries for Data Science\n",
    "Data Analysis\n",
    "SQL for Data Science\n",
    "Maths for Machine Learning\n",
    "ML Algorithms\n",
    "Practical ML\n",
    "MLOPs\n",
    "Case studies\n",
    "You can check the detailed syllabus here - https://learnwith.campusx.in/courses/CampusX-Data-Science-Mentorship-Program-637339afe4b0615a1bbed390\n",
    "Will Deep Learning and NLP be a part of this program?\n",
    "No, NLP and Deep Learning both are not a part of this program’s curriculum.\n",
    "What if I miss a live session? Will I get a recording of the session?\n",
    "Yes all our sessions are recorded, so even if you miss a session you can go back and watch the recording.\n",
    "Where can I find the class schedule?\n",
    "Checkout this google sheet to see month by month time table of the course - https://docs.google.com/spreadsheets/d/16OoTax_A6ORAeCg4emgexhqqPv3noQPYKU7RJ6ArOzk/edit?usp=sharing.\n",
    "What is the time duration of all the live sessions?\n",
    "Roughly, all the sessions last 2 hours.\n",
    "What is the language spoken by the instructor during the sessions?\n",
    "Hinglish\n",
    "How will I be informed about the upcoming class?\n",
    "You will get a mail from our side before every paid session once you become a paid user.\n",
    "Can I do this course if I am from a non-tech background?\n",
    "Yes, absolutely.\n",
    "I am late, can I join the program in the middle?\n",
    "Absolutely, you can join the program anytime.\n",
    "If I join/pay in the middle, will I be able to see all the past lectures?\n",
    "Yes, once you make the payment you will be able to see all the past content in your dashboard.\n",
    "Where do I have to submit the task?\n",
    "You don’t have to submit the task. We will provide you with the solutions, you have to self evaluate the task yourself.\n",
    "Will we do case studies in the program?\n",
    "Yes.\n",
    "Where can we contact you?\n",
    "You can mail us at nitish.campusx@gmail.com\n",
    "Payment/Registration related questions\n",
    "Where do we have to make our payments? Your YouTube channel or website?\n",
    "You have to make all your monthly payments on our website. Here is the link for our website - https://learnwith.campusx.in/\n",
    "Can we pay the entire amount of Rs 5600 all at once?\n",
    "Unfortunately no, the program follows a monthly subscription model.\n",
    "What is the validity of monthly subscription? Suppose if I pay on 15th Jan, then do I have to pay again on 1st Feb or 15th Feb\n",
    "15th Feb. The validity period is 30 days from the day you make the payment. So essentially you can join anytime you don’t have to wait for a month to end.\n",
    "What if I don’t like the course after making the payment. What is the refund policy?\n",
    "You get a 7 days refund period from the day you have made the payment.\n",
    "I am living outside India and I am not able to make the payment on the website, what should I do?\n",
    "You have to contact us by sending a mail at nitish.campusx@gmail.com\n",
    "Post registration queries\n",
    "Till when can I view the paid videos on the website?\n",
    "This one is tricky, so read carefully. You can watch the videos till your subscription is valid. Suppose you have purchased subscription on 21st Jan, you will be able to watch all the past paid sessions in the period of 21st Jan to 20th Feb. But after 21st Feb you will have to purchase the subscription again.\n",
    "But once the course is over and you have paid us Rs 5600(or 7 installments of Rs 799) you will be able to watch the paid sessions till Aug 2024.\n",
    "Why lifetime validity is not provided?\n",
    "Because of the low course fee.\n",
    "Where can I reach out in case of a doubt after the session?\n",
    "You will have to fill a google form provided in your dashboard and our team will contact you for a 1 on 1 doubt clearance session\n",
    "If I join the program late, can I still ask past week doubts?\n",
    "Yes, just select past week doubt in the doubt clearance google form.\n",
    "I am living outside India and I am not able to make the payment on the website, what should I do?\n",
    "You have to contact us by sending a mail at nitish.campusx@gmai.com\n",
    "Certificate and Placement Assistance related queries\n",
    "What is the criteria to get the certificate?\n",
    "There are 2 criterias:\n",
    "You have to pay the entire fee of Rs 5600\n",
    "You have to attempt all the course assessments.\n",
    "I am joining late. How can I pay payment of the earlier months?\n",
    "You will get a link to pay fee of earlier months in your dashboard once you pay for the current month.\n",
    "I have read that Placement assistance is a part of this program. What comes under Placement assistance?\n",
    "This is to clarify that Placement assistance does not mean Placement guarantee. So we dont guarantee you any jobs or for that matter even interview calls. So if you are planning to join this course just for placements, I am afraid you will be disappointed. Here is what comes under placement assistance\n",
    "Portfolio Building sessions\n",
    "Soft skill sessions\n",
    "Sessions with industry mentors\n",
    "Discussion on Job hunting strategies\n",
    "\"\"\""
   ]
  },
  {
   "cell_type": "code",
   "execution_count": null,
   "id": "e7f87d26-e4c7-462c-8387-4daa060cf62f",
   "metadata": {},
   "outputs": [],
   "source": []
  },
  {
   "cell_type": "code",
   "execution_count": 4,
   "id": "ba8cba52-30d2-4c62-8743-293529bad4db",
   "metadata": {},
   "outputs": [
    {
     "data": {
      "text/plain": [
       "\"import string\\n\\ntranslator = str.maketrans(string.punctuation, ' '*len(string.punctuation)) #map punctuation to space\\nnew_data = data.translate(translator)\\n\\nnew_data[:500]\""
      ]
     },
     "execution_count": 4,
     "metadata": {},
     "output_type": "execute_result"
    }
   ],
   "source": [
    "'''import string\n",
    "\n",
    "translator = str.maketrans(string.punctuation, ' '*len(string.punctuation)) #map punctuation to space\n",
    "new_data = data.translate(translator)\n",
    "\n",
    "new_data[:500]'''"
   ]
  },
  {
   "cell_type": "code",
   "execution_count": 5,
   "id": "c8dc964d-f474-4b1c-9e77-6ed5db5655e1",
   "metadata": {},
   "outputs": [],
   "source": [
    "from tensorflow.keras.preprocessing.text import Tokenizer"
   ]
  },
  {
   "cell_type": "code",
   "execution_count": null,
   "id": "237eceac-b4fa-450e-9b56-538f935641bd",
   "metadata": {},
   "outputs": [],
   "source": []
  },
  {
   "cell_type": "code",
   "execution_count": 6,
   "id": "1a80fd67-66fb-4f30-b483-78f2486b97a9",
   "metadata": {},
   "outputs": [],
   "source": [
    "tokenizer=Tokenizer()\n",
    "tokenizer.fit_on_texts([text])\n"
   ]
  },
  {
   "cell_type": "code",
   "execution_count": 7,
   "id": "566f95ef-d2c5-45a1-a93d-abfb657b83b1",
   "metadata": {},
   "outputs": [],
   "source": [
    "input_sequences = []\n",
    "for sentence in text.split('\\n'):\n",
    "  tokenized_sentence = tokenizer.texts_to_sequences([sentence])[0]\n",
    "\n",
    "  for i in range(1,len(tokenized_sentence)):\n",
    "    input_sequences.append(tokenized_sentence[:i+1])"
   ]
  },
  {
   "cell_type": "code",
   "execution_count": 8,
   "id": "22a57fdb-d435-49fd-ab1c-a00c37edfeb0",
   "metadata": {},
   "outputs": [],
   "source": [
    "#input_sequences"
   ]
  },
  {
   "cell_type": "code",
   "execution_count": null,
   "id": "489927d8-31f0-4ceb-8d13-b309eed5c99a",
   "metadata": {},
   "outputs": [],
   "source": []
  },
  {
   "cell_type": "code",
   "execution_count": 9,
   "id": "425056aa-8135-4648-866f-9c1bccc651cd",
   "metadata": {},
   "outputs": [],
   "source": [
    "#input_sequences"
   ]
  },
  {
   "cell_type": "code",
   "execution_count": 10,
   "id": "fef171d4-fd60-4394-9527-869ca5cf205e",
   "metadata": {},
   "outputs": [
    {
     "data": {
      "text/plain": [
       "57"
      ]
     },
     "execution_count": 10,
     "metadata": {},
     "output_type": "execute_result"
    }
   ],
   "source": [
    "max_len = max([len(x) for x in input_sequences])\n",
    "max_len"
   ]
  },
  {
   "cell_type": "code",
   "execution_count": 11,
   "id": "20094991-c90a-48f8-95bc-d8e4de183d44",
   "metadata": {},
   "outputs": [],
   "source": [
    "from tensorflow.keras.preprocessing.sequence import pad_sequences"
   ]
  },
  {
   "cell_type": "code",
   "execution_count": 12,
   "id": "ea3c381f-1319-4e21-9e0e-4ca74b5fd05c",
   "metadata": {},
   "outputs": [],
   "source": [
    "padded_input_sequences = pad_sequences(input_sequences, maxlen = max_len, padding='pre')"
   ]
  },
  {
   "cell_type": "code",
   "execution_count": 13,
   "id": "c690de65-1edd-412b-b857-2afead69b2db",
   "metadata": {},
   "outputs": [
    {
     "data": {
      "text/plain": [
       "array([[  0,   0,   0, ...,   0,  93,   1],\n",
       "       [  0,   0,   0, ...,  93,   1,  13],\n",
       "       [  0,   0,   0, ...,   0,  11,   7],\n",
       "       ...,\n",
       "       [  0,   0,   0, ..., 279,  18, 280],\n",
       "       [  0,   0,   0, ...,  18, 280, 281],\n",
       "       [  0,   0,   0, ..., 280, 281, 282]], dtype=int32)"
      ]
     },
     "execution_count": 13,
     "metadata": {},
     "output_type": "execute_result"
    }
   ],
   "source": [
    "padded_input_sequences"
   ]
  },
  {
   "cell_type": "code",
   "execution_count": 14,
   "id": "17f13102-c0e9-4eeb-a827-807a319db543",
   "metadata": {},
   "outputs": [],
   "source": [
    "X = padded_input_sequences[:,:-1]"
   ]
  },
  {
   "cell_type": "code",
   "execution_count": 15,
   "id": "716c2ef4-8710-4f87-98e2-6c16b32b2546",
   "metadata": {},
   "outputs": [],
   "source": [
    "y = padded_input_sequences[:,-1]"
   ]
  },
  {
   "cell_type": "code",
   "execution_count": 16,
   "id": "8439c438-b578-4f71-95d1-0264a35f174f",
   "metadata": {},
   "outputs": [
    {
     "data": {
      "text/plain": [
       "array([[  0,   0,   0, ...,   0,   0,  93],\n",
       "       [  0,   0,   0, ...,   0,  93,   1],\n",
       "       [  0,   0,   0, ...,   0,   0,  11],\n",
       "       ...,\n",
       "       [  0,   0,   0, ...,   0, 279,  18],\n",
       "       [  0,   0,   0, ..., 279,  18, 280],\n",
       "       [  0,   0,   0, ...,  18, 280, 281]], dtype=int32)"
      ]
     },
     "execution_count": 16,
     "metadata": {},
     "output_type": "execute_result"
    }
   ],
   "source": [
    "X"
   ]
  },
  {
   "cell_type": "code",
   "execution_count": 17,
   "id": "50b9cf83-8384-411b-8cc9-354704a1b4d6",
   "metadata": {},
   "outputs": [
    {
     "data": {
      "text/plain": [
       "array([  1,  13,   7,   1,  12,  42,  15,  43,  53,  68,  13, 147, 148,\n",
       "        12,  94,   5,  44,  29,  95,  30,   2,   8,   4,  26,  44,  69,\n",
       "         6,  31,  70,  45,   7,   1,  71,  72,   6,   1,  12,  71,  72,\n",
       "         6,   1,  12,   7,  54,  73,  32,   1,  71,  12,  42, 149,  70,\n",
       "        54,  31,  55, 150,   7,   1,  96,   6,   1,  68,  13,   9,  19,\n",
       "       151,   1, 152, 153, 154, 155,  15,  43,  53, 156,  15,  43,  53,\n",
       "        15, 159,  74, 160,  98,  99,  10, 163,   1, 164,  96,  76,  77,\n",
       "       100,  33,  14, 165,  33,  43,  53,  68,  13, 166, 101,  74,  20,\n",
       "       102,  19,   5,  78,   6,  21,  13, 102,  20, 101,  74, 167,  56,\n",
       "        46,   5,  78,   6,  21, 168, 169,  22,   3, 104,   5, 105,  34,\n",
       "         9,   3,  47,   5, 106,   6,   1,  34,  16,  35,  17,  56, 170,\n",
       "        32, 107,  22,   2, 104,   5,  34,   2,  10, 171, 172,  20,  57,\n",
       "         1, 106,  10,   3, 173,   1, 108, 174,  21,  58, 176,   4,  79,\n",
       "        45,  59,  45, 109, 177,   6,   1,  12,  77, 178,  58,  60, 179,\n",
       "       180, 181, 182, 183, 184, 185,   7,   1, 109,  72,   6,  16,   1,\n",
       "       105,  17,  16,   1,  17, 187, 110, 188,   7,   1, 189, 190,  59,\n",
       "         1, 191, 192,   1,  17,   9,   3,  19, 194,  93,   1, 195, 108,\n",
       "         9,  47,   5,  61,  62,  35, 196, 197, 198,  36,  34,  49,   2,\n",
       "       199,   5,  36, 200,   3,  28,  21,  12,  22,   3,  23,  62,   5,\n",
       "       201, 202, 203, 112,  23,  80,  10,   3,  37,   1,  13,  14,   1,\n",
       "       113,   2,  10,  37,   1,  13, 114,   3,  37,  24,  14,   1, 113,\n",
       "         9,   3,  19,  38,   4,  79,  16,   1,  50, 204,  49,   2,  26,\n",
       "         1,  25,   2,   9,  19,  38,   4,  79,  16,   1,  50, 205,  14,\n",
       "        39,  81,  28,   3,   8,   4, 115,   1,  82,  83,   8,   4, 115,\n",
       "         1,  82,  27,   9, 206,   2, 116,   1, 207,   2,   8,   4, 208,\n",
       "       209,   1,  82, 210,  27,  28,  75,  99,  14,   1,  13,  10,  27,\n",
       "        63,   2,  10,  61,  64,  65,  84,  33, 117,  60, 118, 119, 211,\n",
       "        28,  27,   8,   4,  26,  35,  69,  39, 212, 213,  66,  40,   8,\n",
       "         4,  26,  16,  39,  44,  69,  18,  35,  40,  76,   7,   1, 120,\n",
       "        15,  35,  40,  77, 100,  33,  14,  27,  24,   1, 121, 214,   6,\n",
       "        31,  55,  16,  65,  49, 103,   1,  13,  94,   5,  44,  29,  95,\n",
       "         7,   1,  85,   6,  44,  29, 122,  22,   3,  24,  18,  86,  87,\n",
       "       216,  28,   3,   8,   4,  24, 123,  18, 217,  51,  66,  86,  51,\n",
       "        51,   1,  85,  88,   7, 218, 124,  62,   1, 125,   2,  26,   1,\n",
       "        25,  32, 219,   2,  10,  37, 114,   2,  83,   8,   4, 220,  15,\n",
       "         5,  45,   4, 221,  22,   3,  83, 222,   1,  12,  89, 223,   1,\n",
       "        25,  11,   7,   1, 126, 224,  47,   5,  54, 124, 126,  88,  62,\n",
       "         1, 125,   2,   8, 225,   1,  25,  23, 127, 128, 129,  20,   3,\n",
       "        23,  46,  38,   4,  26,   1,  25,  18,   1,  40,  11, 130,   3,\n",
       "        28,   8,   4,  63,  64,  59, 131,   5,  61,  65,  84,  33, 117,\n",
       "        60, 118, 132, 227,  10,   3, 228,   1,  36, 133,  18,   1,  40,\n",
       "       229,   7, 230,  32, 134, 231,   2,  10,  57,   1, 133,  90,  39,\n",
       "        29,   7, 232, 122,   2,   8, 233,  29,  18,  91,  87,   2,   9,\n",
       "        19,  38,   4,  57,  16,   1,  50,  36,  17,  14,   1,  88,   6,\n",
       "        91,  87,   4, 234,  51, 135,  89,  91,  51,   2,   9,   8,   4,\n",
       "       235,   1,  29, 123,  49,   1,  12,   7, 236,  20,   2,   8,  36,\n",
       "        64,  31,  55,  66,  54, 237,   6,  31,  70,   2,   9,  19,  38,\n",
       "         4,  57,   1,  36,  17,  90, 238, 239, 241,  85,   7,  46, 136,\n",
       "         6,   1, 243,  12,  42,  10,   3, 244, 245,  14,  75,   6,   5,\n",
       "        67,  89,   1,  34,   9,   8,   4, 246,   5,  58, 137, 136,  14,\n",
       "        39,  81,  20,  35, 247,   9,  63,   2,  15,   5, 138,  18, 138,\n",
       "        67, 139,  34,   3,  37,   1,  13,  80,  10,   3, 248, 249,  50,\n",
       "       140, 250, 141, 251,  50, 140,  67,  14,   1,  67, 139,  58, 137,\n",
       "        23, 127, 128, 129,  20,   3,  23,  46,  38,   4,  26,   1,  25,\n",
       "        18,   1,  40,  11, 130,   3,  28,   8,   4,  63,  64,  59, 131,\n",
       "         5,  61,  65,  84,  33, 252,  60,  20,  41,  52, 119, 132,   7,\n",
       "         1, 253,   4,  47,   1, 142,  56, 110, 255,   8,   4,  24,   1,\n",
       "       121,  42,   6,  31,  55,   8,   4, 256,  16,   1,  12, 257,  23,\n",
       "       258,  80, 111,  10,   3,  24,  25,   6,   1, 143,  73,   9,  47,\n",
       "         5, 120,   4,  24,  42,   6, 143,  73,  14,  39,  81,  49,   2,\n",
       "        24,  15,   1, 259,  45,   8, 134,  92,  41,  52,   7,   5,  78,\n",
       "         6,  21,  13,  11, 144, 145,  41,  52,   7,   4, 260,  92,  41,\n",
       "        52, 261,  46, 262,  41, 146,  32,  27, 263, 146,   2, 264, 265,\n",
       "        66,  15,  92, 266, 107, 267, 268,  32,  22,   2,  56, 269,   4,\n",
       "        37,  21,  12, 141,  15, 270,   3,  23, 271,   2,   9,  19, 272,\n",
       "        76,   7,  11, 144, 145,  41,  52, 274,  17, 276,  17, 116, 277,\n",
       "       278,  18, 280, 281, 282], dtype=int32)"
      ]
     },
     "execution_count": 17,
     "metadata": {},
     "output_type": "execute_result"
    }
   ],
   "source": [
    "y"
   ]
  },
  {
   "cell_type": "code",
   "execution_count": 18,
   "id": "883895fe-f87b-40f1-84c7-58dd18b6194d",
   "metadata": {},
   "outputs": [
    {
     "data": {
      "text/plain": [
       "(863, 56)"
      ]
     },
     "execution_count": 18,
     "metadata": {},
     "output_type": "execute_result"
    }
   ],
   "source": [
    "X.shape"
   ]
  },
  {
   "cell_type": "code",
   "execution_count": 19,
   "id": "f759cb42-5777-41f4-b1d3-1d2edc59bcbf",
   "metadata": {},
   "outputs": [
    {
     "data": {
      "text/plain": [
       "(863,)"
      ]
     },
     "execution_count": 19,
     "metadata": {},
     "output_type": "execute_result"
    }
   ],
   "source": [
    "y.shape"
   ]
  },
  {
   "cell_type": "code",
   "execution_count": 20,
   "id": "ffa83132-b7be-4145-8a6a-98777f7c4d6a",
   "metadata": {},
   "outputs": [],
   "source": [
    "from tensorflow.keras.utils import to_categorical\n",
    "y = to_categorical(y,num_classes = 283)"
   ]
  },
  {
   "cell_type": "code",
   "execution_count": 21,
   "id": "0adde9a4-0ea1-4e60-b48b-b198fc7c5299",
   "metadata": {},
   "outputs": [
    {
     "data": {
      "text/plain": [
       "(863, 283)"
      ]
     },
     "execution_count": 21,
     "metadata": {},
     "output_type": "execute_result"
    }
   ],
   "source": [
    "y.shape"
   ]
  },
  {
   "cell_type": "code",
   "execution_count": 22,
   "id": "27b38b19-a877-4746-95e5-70cf49595cca",
   "metadata": {},
   "outputs": [
    {
     "data": {
      "text/plain": [
       "array([[0., 1., 0., ..., 0., 0., 0.],\n",
       "       [0., 0., 0., ..., 0., 0., 0.],\n",
       "       [0., 0., 0., ..., 0., 0., 0.],\n",
       "       ...,\n",
       "       [0., 0., 0., ..., 1., 0., 0.],\n",
       "       [0., 0., 0., ..., 0., 1., 0.],\n",
       "       [0., 0., 0., ..., 0., 0., 1.]], dtype=float32)"
      ]
     },
     "execution_count": 22,
     "metadata": {},
     "output_type": "execute_result"
    }
   ],
   "source": [
    "y"
   ]
  },
  {
   "cell_type": "code",
   "execution_count": 23,
   "id": "f558f040-992c-4b62-a6ed-dd276bf14f83",
   "metadata": {},
   "outputs": [],
   "source": [
    "from tensorflow.keras.models import Sequential\n",
    "from tensorflow.keras.layers import Embedding, LSTM, Dense"
   ]
  },
  {
   "cell_type": "code",
   "execution_count": 26,
   "id": "7de6774e-b743-4d01-9af3-a90381c49390",
   "metadata": {},
   "outputs": [],
   "source": [
    "model = Sequential()\n",
    "model.add(Embedding(283, 100, input_length=56))\n",
    "\n",
    "model.add(LSTM(150))\n",
    "model.add(Dense(283, activation='softmax'))"
   ]
  },
  {
   "cell_type": "code",
   "execution_count": 27,
   "id": "7c0e7a07-1798-4e3a-81f4-1828cf3a092e",
   "metadata": {},
   "outputs": [],
   "source": [
    "model.compile(loss = 'categorical_crossentropy', optimizer= 'adam', metrics = ['accuracy'])"
   ]
  },
  {
   "cell_type": "code",
   "execution_count": 28,
   "id": "40360848-8610-4a7c-9ffb-f8f1f521753f",
   "metadata": {},
   "outputs": [
    {
     "name": "stdout",
     "output_type": "stream",
     "text": [
      "Model: \"sequential_1\"\n",
      "_________________________________________________________________\n",
      " Layer (type)                Output Shape              Param #   \n",
      "=================================================================\n",
      " embedding_1 (Embedding)     (None, 56, 100)           28300     \n",
      "                                                                 \n",
      " lstm_2 (LSTM)               (None, 150)               150600    \n",
      "                                                                 \n",
      " dense (Dense)               (None, 283)               42733     \n",
      "                                                                 \n",
      "=================================================================\n",
      "Total params: 221,633\n",
      "Trainable params: 221,633\n",
      "Non-trainable params: 0\n",
      "_________________________________________________________________\n"
     ]
    }
   ],
   "source": [
    "model.summary()"
   ]
  },
  {
   "cell_type": "code",
   "execution_count": 29,
   "id": "9b287086-6bcb-4668-a538-e889c1faa370",
   "metadata": {},
   "outputs": [
    {
     "name": "stdout",
     "output_type": "stream",
     "text": [
      "Epoch 1/100\n"
     ]
    },
    {
     "name": "stderr",
     "output_type": "stream",
     "text": [
      "2024-07-29 21:24:39.185350: I tensorflow/core/grappler/optimizers/custom_graph_optimizer_registry.cc:114] Plugin optimizer for device_type GPU is enabled.\n",
      "2024-07-29 21:24:39.356999: I tensorflow/core/common_runtime/pluggable_device/pluggable_device_factory.cc:306] Could not identify NUMA node of platform GPU ID 0, defaulting to 0. Your kernel may not have been built with NUMA support.\n",
      "2024-07-29 21:24:39.357069: I tensorflow/core/common_runtime/pluggable_device/pluggable_device_factory.cc:306] Could not identify NUMA node of platform GPU ID 1, defaulting to 0. Your kernel may not have been built with NUMA support.\n",
      "2024-07-29 21:24:39.357101: I tensorflow/core/common_runtime/pluggable_device/pluggable_device_factory.cc:272] Created TensorFlow device (/job:localhost/replica:0/task:0/device:GPU:0 with 9945 MB memory) -> physical PluggableDevice (device: 0, name: DML, pci bus id: <undefined>)\n",
      "2024-07-29 21:24:39.357124: I tensorflow/core/common_runtime/pluggable_device/pluggable_device_factory.cc:272] Created TensorFlow device (/job:localhost/replica:0/task:0/device:GPU:1 with 7221 MB memory) -> physical PluggableDevice (device: 1, name: DML, pci bus id: <undefined>)\n",
      "2024-07-29 21:24:39.364917: I tensorflow/core/common_runtime/pluggable_device/pluggable_device_factory.cc:306] Could not identify NUMA node of platform GPU ID 0, defaulting to 0. Your kernel may not have been built with NUMA support.\n",
      "2024-07-29 21:24:39.364983: I tensorflow/core/common_runtime/pluggable_device/pluggable_device_factory.cc:306] Could not identify NUMA node of platform GPU ID 1, defaulting to 0. Your kernel may not have been built with NUMA support.\n",
      "2024-07-29 21:24:39.365011: I tensorflow/core/common_runtime/pluggable_device/pluggable_device_factory.cc:272] Created TensorFlow device (/job:localhost/replica:0/task:0/device:GPU:0 with 9945 MB memory) -> physical PluggableDevice (device: 0, name: DML, pci bus id: <undefined>)\n",
      "2024-07-29 21:24:39.365028: I tensorflow/core/common_runtime/pluggable_device/pluggable_device_factory.cc:272] Created TensorFlow device (/job:localhost/replica:0/task:0/device:GPU:1 with 7221 MB memory) -> physical PluggableDevice (device: 1, name: DML, pci bus id: <undefined>)\n",
      "2024-07-29 21:24:39.368112: I tensorflow/core/common_runtime/pluggable_device/pluggable_device_factory.cc:306] Could not identify NUMA node of platform GPU ID 0, defaulting to 0. Your kernel may not have been built with NUMA support.\n",
      "2024-07-29 21:24:39.368163: I tensorflow/core/common_runtime/pluggable_device/pluggable_device_factory.cc:306] Could not identify NUMA node of platform GPU ID 1, defaulting to 0. Your kernel may not have been built with NUMA support.\n",
      "2024-07-29 21:24:39.368188: I tensorflow/core/common_runtime/pluggable_device/pluggable_device_factory.cc:272] Created TensorFlow device (/job:localhost/replica:0/task:0/device:GPU:0 with 9945 MB memory) -> physical PluggableDevice (device: 0, name: DML, pci bus id: <undefined>)\n",
      "2024-07-29 21:24:39.368203: I tensorflow/core/common_runtime/pluggable_device/pluggable_device_factory.cc:272] Created TensorFlow device (/job:localhost/replica:0/task:0/device:GPU:1 with 7221 MB memory) -> physical PluggableDevice (device: 1, name: DML, pci bus id: <undefined>)\n",
      "2024-07-29 21:24:39.372589: I tensorflow/core/common_runtime/pluggable_device/pluggable_device_factory.cc:306] Could not identify NUMA node of platform GPU ID 0, defaulting to 0. Your kernel may not have been built with NUMA support.\n",
      "2024-07-29 21:24:39.372700: I tensorflow/core/common_runtime/pluggable_device/pluggable_device_factory.cc:306] Could not identify NUMA node of platform GPU ID 1, defaulting to 0. Your kernel may not have been built with NUMA support.\n",
      "2024-07-29 21:24:39.372741: I tensorflow/core/common_runtime/pluggable_device/pluggable_device_factory.cc:272] Created TensorFlow device (/job:localhost/replica:0/task:0/device:GPU:0 with 9945 MB memory) -> physical PluggableDevice (device: 0, name: DML, pci bus id: <undefined>)\n",
      "2024-07-29 21:24:39.372761: I tensorflow/core/common_runtime/pluggable_device/pluggable_device_factory.cc:272] Created TensorFlow device (/job:localhost/replica:0/task:0/device:GPU:1 with 7221 MB memory) -> physical PluggableDevice (device: 1, name: DML, pci bus id: <undefined>)\n",
      "2024-07-29 21:24:39.377108: I tensorflow/core/common_runtime/pluggable_device/pluggable_device_factory.cc:306] Could not identify NUMA node of platform GPU ID 0, defaulting to 0. Your kernel may not have been built with NUMA support.\n",
      "2024-07-29 21:24:39.377170: I tensorflow/core/common_runtime/pluggable_device/pluggable_device_factory.cc:306] Could not identify NUMA node of platform GPU ID 1, defaulting to 0. Your kernel may not have been built with NUMA support.\n",
      "2024-07-29 21:24:39.377248: I tensorflow/core/common_runtime/pluggable_device/pluggable_device_factory.cc:272] Created TensorFlow device (/job:localhost/replica:0/task:0/device:GPU:0 with 9945 MB memory) -> physical PluggableDevice (device: 0, name: DML, pci bus id: <undefined>)\n",
      "2024-07-29 21:24:39.377277: I tensorflow/core/common_runtime/pluggable_device/pluggable_device_factory.cc:272] Created TensorFlow device (/job:localhost/replica:0/task:0/device:GPU:1 with 7221 MB memory) -> physical PluggableDevice (device: 1, name: DML, pci bus id: <undefined>)\n",
      "2024-07-29 21:24:39.809188: W tensorflow/core/framework/op_kernel.cc:1780] OP_REQUIRES failed at partitioned_function_ops.cc:115 : INVALID_ARGUMENT: No OpKernel was registered to support Op 'CudnnRNN' used by {{node CudnnRNN}} with these attrs: [input_mode=\"linear_input\", T=DT_FLOAT, direction=\"unidirectional\", rnn_mode=\"lstm\", is_training=true, seed2=0, dropout=0, seed=0]\n",
      "Registered devices: [CPU, GPU]\n",
      "Registered kernels:\n",
      "  <no registered kernels>\n",
      "\n",
      "\t [[CudnnRNN]]\n"
     ]
    },
    {
     "ename": "InvalidArgumentError",
     "evalue": "Graph execution error:\n\nNo OpKernel was registered to support Op 'CudnnRNN' used by {{node CudnnRNN}} with these attrs: [input_mode=\"linear_input\", T=DT_FLOAT, direction=\"unidirectional\", rnn_mode=\"lstm\", is_training=true, seed2=0, dropout=0, seed=0]\nRegistered devices: [CPU, GPU]\nRegistered kernels:\n  <no registered kernels>\n\n\t [[CudnnRNN]]\n\t [[sequential_1/lstm_2/PartitionedCall]] [Op:__inference_train_function_3612]",
     "output_type": "error",
     "traceback": [
      "\u001b[0;31m---------------------------------------------------------------------------\u001b[0m",
      "\u001b[0;31mInvalidArgumentError\u001b[0m                      Traceback (most recent call last)",
      "Cell \u001b[0;32mIn[29], line 1\u001b[0m\n\u001b[0;32m----> 1\u001b[0m \u001b[43mmodel\u001b[49m\u001b[38;5;241;43m.\u001b[39;49m\u001b[43mfit\u001b[49m\u001b[43m(\u001b[49m\u001b[43mX\u001b[49m\u001b[43m,\u001b[49m\u001b[43my\u001b[49m\u001b[43m,\u001b[49m\u001b[43m \u001b[49m\u001b[43mepochs\u001b[49m\u001b[43m \u001b[49m\u001b[38;5;241;43m=\u001b[39;49m\u001b[43m \u001b[49m\u001b[38;5;241;43m100\u001b[39;49m\u001b[43m)\u001b[49m\n",
      "File \u001b[0;32m~/miniconda3/envs/tfdml_plugin/lib/python3.9/site-packages/keras/utils/traceback_utils.py:70\u001b[0m, in \u001b[0;36mfilter_traceback.<locals>.error_handler\u001b[0;34m(*args, **kwargs)\u001b[0m\n\u001b[1;32m     67\u001b[0m     filtered_tb \u001b[38;5;241m=\u001b[39m _process_traceback_frames(e\u001b[38;5;241m.\u001b[39m__traceback__)\n\u001b[1;32m     68\u001b[0m     \u001b[38;5;66;03m# To get the full stack trace, call:\u001b[39;00m\n\u001b[1;32m     69\u001b[0m     \u001b[38;5;66;03m# `tf.debugging.disable_traceback_filtering()`\u001b[39;00m\n\u001b[0;32m---> 70\u001b[0m     \u001b[38;5;28;01mraise\u001b[39;00m e\u001b[38;5;241m.\u001b[39mwith_traceback(filtered_tb) \u001b[38;5;28;01mfrom\u001b[39;00m \u001b[38;5;28;01mNone\u001b[39;00m\n\u001b[1;32m     71\u001b[0m \u001b[38;5;28;01mfinally\u001b[39;00m:\n\u001b[1;32m     72\u001b[0m     \u001b[38;5;28;01mdel\u001b[39;00m filtered_tb\n",
      "File \u001b[0;32m~/miniconda3/envs/tfdml_plugin/lib/python3.9/site-packages/tensorflow/python/eager/execute.py:54\u001b[0m, in \u001b[0;36mquick_execute\u001b[0;34m(op_name, num_outputs, inputs, attrs, ctx, name)\u001b[0m\n\u001b[1;32m     52\u001b[0m \u001b[38;5;28;01mtry\u001b[39;00m:\n\u001b[1;32m     53\u001b[0m   ctx\u001b[38;5;241m.\u001b[39mensure_initialized()\n\u001b[0;32m---> 54\u001b[0m   tensors \u001b[38;5;241m=\u001b[39m pywrap_tfe\u001b[38;5;241m.\u001b[39mTFE_Py_Execute(ctx\u001b[38;5;241m.\u001b[39m_handle, device_name, op_name,\n\u001b[1;32m     55\u001b[0m                                       inputs, attrs, num_outputs)\n\u001b[1;32m     56\u001b[0m \u001b[38;5;28;01mexcept\u001b[39;00m core\u001b[38;5;241m.\u001b[39m_NotOkStatusException \u001b[38;5;28;01mas\u001b[39;00m e:\n\u001b[1;32m     57\u001b[0m   \u001b[38;5;28;01mif\u001b[39;00m name \u001b[38;5;129;01mis\u001b[39;00m \u001b[38;5;129;01mnot\u001b[39;00m \u001b[38;5;28;01mNone\u001b[39;00m:\n",
      "\u001b[0;31mInvalidArgumentError\u001b[0m: Graph execution error:\n\nNo OpKernel was registered to support Op 'CudnnRNN' used by {{node CudnnRNN}} with these attrs: [input_mode=\"linear_input\", T=DT_FLOAT, direction=\"unidirectional\", rnn_mode=\"lstm\", is_training=true, seed2=0, dropout=0, seed=0]\nRegistered devices: [CPU, GPU]\nRegistered kernels:\n  <no registered kernels>\n\n\t [[CudnnRNN]]\n\t [[sequential_1/lstm_2/PartitionedCall]] [Op:__inference_train_function_3612]"
     ]
    }
   ],
   "source": [
    "model.fit(X,y, epochs = 100)"
   ]
  },
  {
   "cell_type": "code",
   "execution_count": null,
   "id": "62bbed98-cccf-42a9-a8bf-c9fdf89b1bed",
   "metadata": {},
   "outputs": [],
   "source": []
  }
 ],
 "metadata": {
  "kernelspec": {
   "display_name": "Python 3 (ipykernel)",
   "language": "python",
   "name": "python3"
  },
  "language_info": {
   "codemirror_mode": {
    "name": "ipython",
    "version": 3
   },
   "file_extension": ".py",
   "mimetype": "text/x-python",
   "name": "python",
   "nbconvert_exporter": "python",
   "pygments_lexer": "ipython3",
   "version": "3.9.19"
  }
 },
 "nbformat": 4,
 "nbformat_minor": 5
}
