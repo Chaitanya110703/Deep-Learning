{
 "cells": [
  {
   "cell_type": "code",
   "execution_count": 2,
   "id": "43a0dbee-e659-457d-991b-2f9ff0c94ba5",
   "metadata": {},
   "outputs": [],
   "source": [
    "import numpy as np\n",
    "\n",
    "docs = ['go india',\n",
    "       'india india',\n",
    "       'hip hip hurray',\n",
    "       'jeetega bhai jeetega india jeetega',\n",
    "       'bharat mata ki jai',\n",
    "       'kohli kohli',\n",
    "       'sachin sachin',\n",
    "       'inquilab zindabad']"
   ]
  },
  {
   "cell_type": "code",
   "execution_count": 3,
   "id": "f7cb8886-2d53-49ee-a78f-b10be8bd4c3f",
   "metadata": {},
   "outputs": [],
   "source": [
    "from keras.preprocessing.text import Tokenizer\n",
    "tokenizer = Tokenizer(oov_token='chaitanya')"
   ]
  },
  {
   "cell_type": "code",
   "execution_count": 4,
   "id": "2a6fb475-c85e-4f5b-bd71-880e74d31114",
   "metadata": {},
   "outputs": [],
   "source": [
    "tokenizer.fit_on_texts(docs)"
   ]
  },
  {
   "cell_type": "code",
   "execution_count": 5,
   "id": "e6af27a5-4de7-4d90-bd8e-e4afe1ff370d",
   "metadata": {},
   "outputs": [
    {
     "data": {
      "text/plain": [
       "{'chaitanya': 1,\n",
       " 'india': 2,\n",
       " 'jeetega': 3,\n",
       " 'hip': 4,\n",
       " 'kohli': 5,\n",
       " 'sachin': 6,\n",
       " 'go': 7,\n",
       " 'hurray': 8,\n",
       " 'bhai': 9,\n",
       " 'bharat': 10,\n",
       " 'mata': 11,\n",
       " 'ki': 12,\n",
       " 'jai': 13,\n",
       " 'inquilab': 14,\n",
       " 'zindabad': 15}"
      ]
     },
     "execution_count": 5,
     "metadata": {},
     "output_type": "execute_result"
    }
   ],
   "source": [
    "tokenizer.word_index"
   ]
  },
  {
   "cell_type": "code",
   "execution_count": 6,
   "id": "884f1988-4a49-4159-a729-524effbbc6be",
   "metadata": {},
   "outputs": [
    {
     "data": {
      "text/plain": [
       "OrderedDict([('go', 1),\n",
       "             ('india', 4),\n",
       "             ('hip', 2),\n",
       "             ('hurray', 1),\n",
       "             ('jeetega', 3),\n",
       "             ('bhai', 1),\n",
       "             ('bharat', 1),\n",
       "             ('mata', 1),\n",
       "             ('ki', 1),\n",
       "             ('jai', 1),\n",
       "             ('kohli', 2),\n",
       "             ('sachin', 2),\n",
       "             ('inquilab', 1),\n",
       "             ('zindabad', 1)])"
      ]
     },
     "execution_count": 6,
     "metadata": {},
     "output_type": "execute_result"
    }
   ],
   "source": [
    "tokenizer.word_counts"
   ]
  },
  {
   "cell_type": "code",
   "execution_count": 7,
   "id": "c8211dd0-d3e3-4fdf-8af8-388510a9c868",
   "metadata": {},
   "outputs": [
    {
     "data": {
      "text/plain": [
       "8"
      ]
     },
     "execution_count": 7,
     "metadata": {},
     "output_type": "execute_result"
    }
   ],
   "source": [
    "tokenizer.document_count"
   ]
  },
  {
   "cell_type": "code",
   "execution_count": 8,
   "id": "387446ac-5ad7-416d-997a-8a408c008781",
   "metadata": {},
   "outputs": [
    {
     "data": {
      "text/plain": [
       "[[7, 2],\n",
       " [2, 2],\n",
       " [4, 4, 8],\n",
       " [3, 9, 3, 2, 3],\n",
       " [10, 11, 12, 13],\n",
       " [5, 5],\n",
       " [6, 6],\n",
       " [14, 15]]"
      ]
     },
     "execution_count": 8,
     "metadata": {},
     "output_type": "execute_result"
    }
   ],
   "source": [
    "sequences = tokenizer.texts_to_sequences(docs)\n",
    "sequences"
   ]
  },
  {
   "cell_type": "code",
   "execution_count": 9,
   "id": "39d0af56-19d3-49fa-8e42-b3c571c7e656",
   "metadata": {},
   "outputs": [],
   "source": [
    "from keras.utils import pad_sequences"
   ]
  },
  {
   "cell_type": "code",
   "execution_count": 10,
   "id": "a5f39738-18f9-433a-bcab-11acf1e0a386",
   "metadata": {},
   "outputs": [],
   "source": [
    "sequences = pad_sequences(sequences, padding = 'post')"
   ]
  },
  {
   "cell_type": "code",
   "execution_count": 11,
   "id": "c766ce7d-d0d5-444f-b2ce-d91a11b79b87",
   "metadata": {},
   "outputs": [
    {
     "data": {
      "text/plain": [
       "array([[ 7,  2,  0,  0,  0],\n",
       "       [ 2,  2,  0,  0,  0],\n",
       "       [ 4,  4,  8,  0,  0],\n",
       "       [ 3,  9,  3,  2,  3],\n",
       "       [10, 11, 12, 13,  0],\n",
       "       [ 5,  5,  0,  0,  0],\n",
       "       [ 6,  6,  0,  0,  0],\n",
       "       [14, 15,  0,  0,  0]])"
      ]
     },
     "execution_count": 11,
     "metadata": {},
     "output_type": "execute_result"
    }
   ],
   "source": [
    "sequences"
   ]
  },
  {
   "cell_type": "code",
   "execution_count": 14,
   "id": "631fa6b6-b83e-47f0-b508-24b42434eaf7",
   "metadata": {},
   "outputs": [],
   "source": [
    "from keras.datasets import imdb\n",
    "from keras import Sequential\n",
    "from keras.layers import Dense, SimpleRNN, Embedding, Flatten\n",
    "from keras.utils import pad_sequences"
   ]
  },
  {
   "cell_type": "code",
   "execution_count": 15,
   "id": "d42ec5f5-1c5f-40e4-8943-9c2297a8e05c",
   "metadata": {},
   "outputs": [
    {
     "name": "stdout",
     "output_type": "stream",
     "text": [
      "Model: \"sequential\"\n",
      "_________________________________________________________________\n",
      " Layer (type)                Output Shape              Param #   \n",
      "=================================================================\n",
      " embedding (Embedding)       (None, 5, 2)              34        \n",
      "                                                                 \n",
      "=================================================================\n",
      "Total params: 34 (136.00 Byte)\n",
      "Trainable params: 34 (136.00 Byte)\n",
      "Non-trainable params: 0 (0.00 Byte)\n",
      "_________________________________________________________________\n"
     ]
    }
   ],
   "source": [
    "model = Sequential()\n",
    "model.add(Embedding(17,output_dim = 2, input_length = 5))\n",
    "\n",
    "model.summary()"
   ]
  },
  {
   "cell_type": "code",
   "execution_count": 16,
   "id": "c117a249-0ecf-4252-8628-1596be2f09df",
   "metadata": {},
   "outputs": [],
   "source": [
    "model.compile('adam', 'accuracy')"
   ]
  },
  {
   "cell_type": "code",
   "execution_count": 17,
   "id": "e2894896-003f-4a11-b181-d4d3716218ba",
   "metadata": {},
   "outputs": [
    {
     "name": "stdout",
     "output_type": "stream",
     "text": [
      "1/1 [==============================] - 0s 65ms/step\n",
      "[[[ 0.04498668  0.02575369]\n",
      "  [ 0.01004316  0.00441178]\n",
      "  [-0.04520781  0.04828769]\n",
      "  [-0.04520781  0.04828769]\n",
      "  [-0.04520781  0.04828769]]\n",
      "\n",
      " [[ 0.01004316  0.00441178]\n",
      "  [ 0.01004316  0.00441178]\n",
      "  [-0.04520781  0.04828769]\n",
      "  [-0.04520781  0.04828769]\n",
      "  [-0.04520781  0.04828769]]\n",
      "\n",
      " [[-0.02506527  0.00038903]\n",
      "  [-0.02506527  0.00038903]\n",
      "  [ 0.0094241  -0.04519266]\n",
      "  [-0.04520781  0.04828769]\n",
      "  [-0.04520781  0.04828769]]\n",
      "\n",
      " [[-0.00171446  0.02350128]\n",
      "  [-0.04090134 -0.04267731]\n",
      "  [-0.00171446  0.02350128]\n",
      "  [ 0.01004316  0.00441178]\n",
      "  [-0.00171446  0.02350128]]\n",
      "\n",
      " [[ 0.00445519 -0.01992144]\n",
      "  [-0.03995708 -0.03087776]\n",
      "  [-0.0230817  -0.04495019]\n",
      "  [-0.02518973 -0.03361598]\n",
      "  [-0.04520781  0.04828769]]\n",
      "\n",
      " [[ 0.00647942  0.04562363]\n",
      "  [ 0.00647942  0.04562363]\n",
      "  [-0.04520781  0.04828769]\n",
      "  [-0.04520781  0.04828769]\n",
      "  [-0.04520781  0.04828769]]\n",
      "\n",
      " [[-0.02985091 -0.02709441]\n",
      "  [-0.02985091 -0.02709441]\n",
      "  [-0.04520781  0.04828769]\n",
      "  [-0.04520781  0.04828769]\n",
      "  [-0.04520781  0.04828769]]\n",
      "\n",
      " [[ 0.01826418 -0.03800416]\n",
      "  [ 0.03462119 -0.01775118]\n",
      "  [-0.04520781  0.04828769]\n",
      "  [-0.04520781  0.04828769]\n",
      "  [-0.04520781  0.04828769]]]\n"
     ]
    }
   ],
   "source": [
    "pred = model.predict(sequences)\n",
    "print(pred)"
   ]
  },
  {
   "cell_type": "code",
   "execution_count": null,
   "id": "f216bcde-e29d-4ced-8e37-30535944e2a9",
   "metadata": {},
   "outputs": [],
   "source": []
  }
 ],
 "metadata": {
  "kernelspec": {
   "display_name": "Python 3 (ipykernel)",
   "language": "python",
   "name": "python3"
  },
  "language_info": {
   "codemirror_mode": {
    "name": "ipython",
    "version": 3
   },
   "file_extension": ".py",
   "mimetype": "text/x-python",
   "name": "python",
   "nbconvert_exporter": "python",
   "pygments_lexer": "ipython3",
   "version": "3.11.3"
  }
 },
 "nbformat": 4,
 "nbformat_minor": 5
}
