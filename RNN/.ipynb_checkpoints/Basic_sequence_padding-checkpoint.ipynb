{
 "cells": [
  {
   "cell_type": "code",
   "execution_count": 1,
   "id": "43a0dbee-e659-457d-991b-2f9ff0c94ba5",
   "metadata": {},
   "outputs": [],
   "source": [
    "import numpy as np\n",
    "\n",
    "docs = ['go india',\n",
    "       'india india',\n",
    "       'hip hip hurray',\n",
    "       'jeetega bhai jeetega india jeetega',\n",
    "       'bharat mata ki jai',\n",
    "       'kohli kohli',\n",
    "       'sachin sachin',\n",
    "       'inquilab zindabad']"
   ]
  },
  {
   "cell_type": "code",
   "execution_count": 2,
   "id": "f7cb8886-2d53-49ee-a78f-b10be8bd4c3f",
   "metadata": {},
   "outputs": [],
   "source": [
    "from keras.preprocessing.text import Tokenizer\n",
    "tokenizer = Tokenizer(oov_token='chaitanya')"
   ]
  },
  {
   "cell_type": "code",
   "execution_count": 3,
   "id": "2a6fb475-c85e-4f5b-bd71-880e74d31114",
   "metadata": {},
   "outputs": [],
   "source": [
    "tokenizer.fit_on_texts(docs)"
   ]
  },
  {
   "cell_type": "code",
   "execution_count": 4,
   "id": "e6af27a5-4de7-4d90-bd8e-e4afe1ff370d",
   "metadata": {},
   "outputs": [
    {
     "data": {
      "text/plain": [
       "{'chaitanya': 1,\n",
       " 'india': 2,\n",
       " 'jeetega': 3,\n",
       " 'hip': 4,\n",
       " 'kohli': 5,\n",
       " 'sachin': 6,\n",
       " 'go': 7,\n",
       " 'hurray': 8,\n",
       " 'bhai': 9,\n",
       " 'bharat': 10,\n",
       " 'mata': 11,\n",
       " 'ki': 12,\n",
       " 'jai': 13,\n",
       " 'inquilab': 14,\n",
       " 'zindabad': 15}"
      ]
     },
     "execution_count": 4,
     "metadata": {},
     "output_type": "execute_result"
    }
   ],
   "source": [
    "tokenizer.word_index"
   ]
  },
  {
   "cell_type": "code",
   "execution_count": 5,
   "id": "884f1988-4a49-4159-a729-524effbbc6be",
   "metadata": {},
   "outputs": [
    {
     "data": {
      "text/plain": [
       "OrderedDict([('go', 1),\n",
       "             ('india', 4),\n",
       "             ('hip', 2),\n",
       "             ('hurray', 1),\n",
       "             ('jeetega', 3),\n",
       "             ('bhai', 1),\n",
       "             ('bharat', 1),\n",
       "             ('mata', 1),\n",
       "             ('ki', 1),\n",
       "             ('jai', 1),\n",
       "             ('kohli', 2),\n",
       "             ('sachin', 2),\n",
       "             ('inquilab', 1),\n",
       "             ('zindabad', 1)])"
      ]
     },
     "execution_count": 5,
     "metadata": {},
     "output_type": "execute_result"
    }
   ],
   "source": [
    "tokenizer.word_counts"
   ]
  },
  {
   "cell_type": "code",
   "execution_count": 6,
   "id": "c8211dd0-d3e3-4fdf-8af8-388510a9c868",
   "metadata": {},
   "outputs": [
    {
     "data": {
      "text/plain": [
       "8"
      ]
     },
     "execution_count": 6,
     "metadata": {},
     "output_type": "execute_result"
    }
   ],
   "source": [
    "tokenizer.document_count"
   ]
  },
  {
   "cell_type": "code",
   "execution_count": 7,
   "id": "387446ac-5ad7-416d-997a-8a408c008781",
   "metadata": {},
   "outputs": [
    {
     "data": {
      "text/plain": [
       "[[7, 2],\n",
       " [2, 2],\n",
       " [4, 4, 8],\n",
       " [3, 9, 3, 2, 3],\n",
       " [10, 11, 12, 13],\n",
       " [5, 5],\n",
       " [6, 6],\n",
       " [14, 15]]"
      ]
     },
     "execution_count": 7,
     "metadata": {},
     "output_type": "execute_result"
    }
   ],
   "source": [
    "sequences = tokenizer.texts_to_sequences(docs)\n",
    "sequences"
   ]
  },
  {
   "cell_type": "code",
   "execution_count": 8,
   "id": "39d0af56-19d3-49fa-8e42-b3c571c7e656",
   "metadata": {},
   "outputs": [],
   "source": [
    "from keras.utils import pad_sequences"
   ]
  },
  {
   "cell_type": "code",
   "execution_count": 9,
   "id": "a5f39738-18f9-433a-bcab-11acf1e0a386",
   "metadata": {},
   "outputs": [],
   "source": [
    "sequences = pad_sequences(sequences, padding = 'post')"
   ]
  },
  {
   "cell_type": "code",
   "execution_count": 10,
   "id": "c766ce7d-d0d5-444f-b2ce-d91a11b79b87",
   "metadata": {},
   "outputs": [
    {
     "data": {
      "text/plain": [
       "array([[ 7,  2,  0,  0,  0],\n",
       "       [ 2,  2,  0,  0,  0],\n",
       "       [ 4,  4,  8,  0,  0],\n",
       "       [ 3,  9,  3,  2,  3],\n",
       "       [10, 11, 12, 13,  0],\n",
       "       [ 5,  5,  0,  0,  0],\n",
       "       [ 6,  6,  0,  0,  0],\n",
       "       [14, 15,  0,  0,  0]])"
      ]
     },
     "execution_count": 10,
     "metadata": {},
     "output_type": "execute_result"
    }
   ],
   "source": [
    "sequences"
   ]
  },
  {
   "cell_type": "code",
   "execution_count": null,
   "id": "d42ec5f5-1c5f-40e4-8943-9c2297a8e05c",
   "metadata": {},
   "outputs": [],
   "source": []
  }
 ],
 "metadata": {
  "kernelspec": {
   "display_name": "Python 3 (ipykernel)",
   "language": "python",
   "name": "python3"
  },
  "language_info": {
   "codemirror_mode": {
    "name": "ipython",
    "version": 3
   },
   "file_extension": ".py",
   "mimetype": "text/x-python",
   "name": "python",
   "nbconvert_exporter": "python",
   "pygments_lexer": "ipython3",
   "version": "3.11.3"
  }
 },
 "nbformat": 4,
 "nbformat_minor": 5
}
