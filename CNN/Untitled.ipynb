{
 "cells": [
  {
   "cell_type": "code",
   "execution_count": 59,
   "id": "73dc14eb-775f-4d73-b2b8-975b9f37f373",
   "metadata": {},
   "outputs": [],
   "source": [
    "import tensorflow\n",
    "from tensorflow import keras\n",
    "from keras.layers import Dense,Conv2D,Flatten,MaxPooling2D,AveragePooling2D\n",
    "from keras import Sequential\n",
    "from keras.datasets import mnist\n",
    "from keras.utils import to_categorical\n",
    "import numpy as np"
   ]
  },
  {
   "cell_type": "code",
   "execution_count": 5,
   "id": "736c8329-98e7-4176-bb3f-6da676c98776",
   "metadata": {},
   "outputs": [],
   "source": [
    "(X_train, y_train), (X_test, y_test) = mnist.load_data()"
   ]
  },
  {
   "cell_type": "code",
   "execution_count": 50,
   "id": "7565ec82-fd19-4f1d-85eb-829a156ad82a",
   "metadata": {},
   "outputs": [
    {
     "data": {
      "text/plain": [
       "(60000, 28, 28, 1)"
      ]
     },
     "execution_count": 50,
     "metadata": {},
     "output_type": "execute_result"
    }
   ],
   "source": [
    "X_train.shape"
   ]
  },
  {
   "cell_type": "code",
   "execution_count": 30,
   "id": "c4650d44-0882-4293-ae3a-b72d331f4c2d",
   "metadata": {},
   "outputs": [
    {
     "name": "stdout",
     "output_type": "stream",
     "text": [
      "(60000,)\n",
      "(10000,)\n"
     ]
    }
   ],
   "source": [
    "print(y_train.shape)\n",
    "print(y_test.shape)"
   ]
  },
  {
   "cell_type": "code",
   "execution_count": 45,
   "id": "4eba204d-8500-4224-b2d6-a53850a75607",
   "metadata": {},
   "outputs": [],
   "source": [
    "X_train = X_train.reshape(-1, 28, 28, 1).astype('float32') / 255\n",
    "X_test = X_test.reshape(-1, 28, 28, 1).astype('float32') / 255"
   ]
  },
  {
   "cell_type": "code",
   "execution_count": 52,
   "id": "dad5dcfb-16b8-4c1a-8615-834d552760d6",
   "metadata": {},
   "outputs": [],
   "source": [
    "y_train = to_categorical(y_train, num_classes=10)\n",
    "y_test = to_categorical(y_test, num_classes=10)"
   ]
  },
  {
   "cell_type": "code",
   "execution_count": 53,
   "id": "914971e4-6186-4ec9-9fe0-4cabb99d4b28",
   "metadata": {},
   "outputs": [],
   "source": [
    "model = Sequential()\n",
    "\n",
    "model.add(Conv2D(6,kernel_size=(5,5),padding = 'valid',activation='tanh',input_shape = (28,28,1)))\n",
    "model.add(AveragePooling2D(pool_size = (2,2), strides = 2,padding = 'valid'))\n",
    "model.add(Conv2D(16,kernel_size=(5,5),padding = 'valid',activation='tanh'))\n",
    "model.add(AveragePooling2D(pool_size = (2,2), strides = 2,padding = 'valid'))\n",
    "\n",
    "model.add(Flatten())\n",
    "\n",
    "model.add(Dense(120,activation = 'tanh'))\n",
    "model.add(Dense(84,activation = 'tanh'))\n",
    "model.add(Dense(10,activation = 'softmax'))"
   ]
  },
  {
   "cell_type": "code",
   "execution_count": 54,
   "id": "ea5ad456-2143-486b-ba7c-11bc14514bfa",
   "metadata": {},
   "outputs": [
    {
     "name": "stdout",
     "output_type": "stream",
     "text": [
      "Model: \"sequential_10\"\n",
      "_________________________________________________________________\n",
      " Layer (type)                Output Shape              Param #   \n",
      "=================================================================\n",
      " conv2d_18 (Conv2D)          (None, 24, 24, 6)         156       \n",
      "                                                                 \n",
      " average_pooling2d_16 (Aver  (None, 12, 12, 6)         0         \n",
      " agePooling2D)                                                   \n",
      "                                                                 \n",
      " conv2d_19 (Conv2D)          (None, 8, 8, 16)          2416      \n",
      "                                                                 \n",
      " average_pooling2d_17 (Aver  (None, 4, 4, 16)          0         \n",
      " agePooling2D)                                                   \n",
      "                                                                 \n",
      " flatten_8 (Flatten)         (None, 256)               0         \n",
      "                                                                 \n",
      " dense_24 (Dense)            (None, 120)               30840     \n",
      "                                                                 \n",
      " dense_25 (Dense)            (None, 84)                10164     \n",
      "                                                                 \n",
      " dense_26 (Dense)            (None, 10)                850       \n",
      "                                                                 \n",
      "=================================================================\n",
      "Total params: 44426 (173.54 KB)\n",
      "Trainable params: 44426 (173.54 KB)\n",
      "Non-trainable params: 0 (0.00 Byte)\n",
      "_________________________________________________________________\n"
     ]
    }
   ],
   "source": [
    "model.summary()"
   ]
  },
  {
   "cell_type": "code",
   "execution_count": 55,
   "id": "b6ac8823-07c2-4444-8161-9ac520217396",
   "metadata": {},
   "outputs": [],
   "source": [
    "model.compile(optimizer='adam', loss = 'categorical_crossentropy', metrics = 'accuracy')"
   ]
  },
  {
   "cell_type": "code",
   "execution_count": 56,
   "id": "17007e8c-0882-4325-bacd-e9b7162b4806",
   "metadata": {},
   "outputs": [
    {
     "name": "stdout",
     "output_type": "stream",
     "text": [
      "Epoch 1/20\n",
      "1875/1875 [==============================] - 9s 4ms/step - loss: 0.2367 - accuracy: 0.9290 - val_loss: 0.1144 - val_accuracy: 0.9647\n",
      "Epoch 2/20\n",
      "1875/1875 [==============================] - 8s 4ms/step - loss: 0.0901 - accuracy: 0.9721 - val_loss: 0.0770 - val_accuracy: 0.9768\n",
      "Epoch 3/20\n",
      "1875/1875 [==============================] - 9s 5ms/step - loss: 0.0607 - accuracy: 0.9812 - val_loss: 0.0608 - val_accuracy: 0.9804\n",
      "Epoch 4/20\n",
      "1875/1875 [==============================] - 8s 4ms/step - loss: 0.0460 - accuracy: 0.9857 - val_loss: 0.0582 - val_accuracy: 0.9812\n",
      "Epoch 5/20\n",
      "1875/1875 [==============================] - 9s 5ms/step - loss: 0.0375 - accuracy: 0.9884 - val_loss: 0.0498 - val_accuracy: 0.9853\n",
      "Epoch 6/20\n",
      "1875/1875 [==============================] - 10s 5ms/step - loss: 0.0306 - accuracy: 0.9905 - val_loss: 0.0444 - val_accuracy: 0.9866\n",
      "Epoch 7/20\n",
      "1875/1875 [==============================] - 10s 5ms/step - loss: 0.0246 - accuracy: 0.9921 - val_loss: 0.0461 - val_accuracy: 0.9868\n",
      "Epoch 8/20\n",
      "1875/1875 [==============================] - 11s 6ms/step - loss: 0.0223 - accuracy: 0.9930 - val_loss: 0.0488 - val_accuracy: 0.9845\n",
      "Epoch 9/20\n",
      "1875/1875 [==============================] - 10s 5ms/step - loss: 0.0188 - accuracy: 0.9936 - val_loss: 0.0561 - val_accuracy: 0.9839\n",
      "Epoch 10/20\n",
      "1875/1875 [==============================] - 10s 5ms/step - loss: 0.0152 - accuracy: 0.9952 - val_loss: 0.0425 - val_accuracy: 0.9875\n",
      "Epoch 11/20\n",
      "1875/1875 [==============================] - 10s 5ms/step - loss: 0.0148 - accuracy: 0.9952 - val_loss: 0.0494 - val_accuracy: 0.9855\n",
      "Epoch 12/20\n",
      "1875/1875 [==============================] - 9s 5ms/step - loss: 0.0126 - accuracy: 0.9960 - val_loss: 0.0448 - val_accuracy: 0.9882\n",
      "Epoch 13/20\n",
      "1875/1875 [==============================] - 9s 5ms/step - loss: 0.0111 - accuracy: 0.9961 - val_loss: 0.0479 - val_accuracy: 0.9873\n",
      "Epoch 14/20\n",
      "1875/1875 [==============================] - 9s 5ms/step - loss: 0.0113 - accuracy: 0.9958 - val_loss: 0.0589 - val_accuracy: 0.9850\n",
      "Epoch 15/20\n",
      "1875/1875 [==============================] - 9s 5ms/step - loss: 0.0102 - accuracy: 0.9964 - val_loss: 0.0503 - val_accuracy: 0.9868\n",
      "Epoch 16/20\n",
      "1875/1875 [==============================] - 9s 5ms/step - loss: 0.0094 - accuracy: 0.9970 - val_loss: 0.0553 - val_accuracy: 0.9872\n",
      "Epoch 17/20\n",
      "1875/1875 [==============================] - 9s 5ms/step - loss: 0.0089 - accuracy: 0.9969 - val_loss: 0.0554 - val_accuracy: 0.9860\n",
      "Epoch 18/20\n",
      "1875/1875 [==============================] - 9s 5ms/step - loss: 0.0079 - accuracy: 0.9971 - val_loss: 0.0594 - val_accuracy: 0.9860\n",
      "Epoch 19/20\n",
      "1875/1875 [==============================] - 10s 5ms/step - loss: 0.0076 - accuracy: 0.9975 - val_loss: 0.0511 - val_accuracy: 0.9874\n",
      "Epoch 20/20\n",
      "1875/1875 [==============================] - 9s 5ms/step - loss: 0.0086 - accuracy: 0.9972 - val_loss: 0.0566 - val_accuracy: 0.9850\n"
     ]
    },
    {
     "data": {
      "text/plain": [
       "<keras.src.callbacks.History at 0x1944ef02b90>"
      ]
     },
     "execution_count": 56,
     "metadata": {},
     "output_type": "execute_result"
    }
   ],
   "source": [
    "model.fit(X_train,y_train,batch_size=32,epochs= 20,validation_data=(X_test,y_test))"
   ]
  },
  {
   "cell_type": "code",
   "execution_count": 57,
   "id": "0bb3dd6b-c200-423c-a576-41fcc5febaef",
   "metadata": {},
   "outputs": [
    {
     "name": "stdout",
     "output_type": "stream",
     "text": [
      "313/313 [==============================] - 1s 2ms/step\n"
     ]
    }
   ],
   "source": [
    "predictions =  model.predict(X_test)"
   ]
  },
  {
   "cell_type": "code",
   "execution_count": 60,
   "id": "2070c09d-c3e6-4de0-af14-6a4f074548df",
   "metadata": {},
   "outputs": [],
   "source": [
    "predicted_classes = np.argmax(predictions, axis=1)"
   ]
  },
  {
   "cell_type": "code",
   "execution_count": 61,
   "id": "b75ae122-41d0-46cb-8c68-4d4ddd570f76",
   "metadata": {},
   "outputs": [],
   "source": [
    "true_classes = np.argmax(y_test, axis=1)"
   ]
  },
  {
   "cell_type": "code",
   "execution_count": 62,
   "id": "3fa28fa7-91ff-48ed-bd15-d2c879937c14",
   "metadata": {},
   "outputs": [
    {
     "name": "stdout",
     "output_type": "stream",
     "text": [
      "Predicted classes:  [7 2 1 0 4 1 4 9 5 9]\n",
      "True classes:       [7 2 1 0 4 1 4 9 5 9]\n"
     ]
    }
   ],
   "source": [
    "print(\"Predicted classes: \", predicted_classes[:10])\n",
    "print(\"True classes:      \", true_classes[:10])"
   ]
  },
  {
   "cell_type": "code",
   "execution_count": null,
   "id": "e10df182-e027-465b-849a-c2edb28613c7",
   "metadata": {},
   "outputs": [],
   "source": []
  }
 ],
 "metadata": {
  "kernelspec": {
   "display_name": "Python 3 (ipykernel)",
   "language": "python",
   "name": "python3"
  },
  "language_info": {
   "codemirror_mode": {
    "name": "ipython",
    "version": 3
   },
   "file_extension": ".py",
   "mimetype": "text/x-python",
   "name": "python",
   "nbconvert_exporter": "python",
   "pygments_lexer": "ipython3",
   "version": "3.11.3"
  }
 },
 "nbformat": 4,
 "nbformat_minor": 5
}
