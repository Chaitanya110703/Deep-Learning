{
 "cells": [
  {
   "cell_type": "code",
   "execution_count": 1,
   "id": "2c2d3012-fcb3-4fc4-92b7-22cb564fc9f0",
   "metadata": {},
   "outputs": [],
   "source": [
    "import numpy as np\n",
    "import pandas as pd\n",
    "import os"
   ]
  },
  {
   "cell_type": "code",
   "execution_count": 2,
   "id": "356fb066-4dd6-4d8d-ae25-c69cccd712d0",
   "metadata": {},
   "outputs": [],
   "source": [
    "df = pd.read_csv('Churn_Modelling.csv')"
   ]
  },
  {
   "cell_type": "code",
   "execution_count": 5,
   "id": "b37a0466-6488-4941-928e-41ebdc30d28b",
   "metadata": {},
   "outputs": [
    {
     "data": {
      "text/plain": [
       "(10000, 14)"
      ]
     },
     "execution_count": 5,
     "metadata": {},
     "output_type": "execute_result"
    }
   ],
   "source": [
    "df.shape"
   ]
  },
  {
   "cell_type": "code",
   "execution_count": 6,
   "id": "5b776241-39b3-42cf-b0b5-44c78e51dc95",
   "metadata": {},
   "outputs": [
    {
     "data": {
      "text/html": [
       "<div>\n",
       "<style scoped>\n",
       "    .dataframe tbody tr th:only-of-type {\n",
       "        vertical-align: middle;\n",
       "    }\n",
       "\n",
       "    .dataframe tbody tr th {\n",
       "        vertical-align: top;\n",
       "    }\n",
       "\n",
       "    .dataframe thead th {\n",
       "        text-align: right;\n",
       "    }\n",
       "</style>\n",
       "<table border=\"1\" class=\"dataframe\">\n",
       "  <thead>\n",
       "    <tr style=\"text-align: right;\">\n",
       "      <th></th>\n",
       "      <th>RowNumber</th>\n",
       "      <th>CustomerId</th>\n",
       "      <th>Surname</th>\n",
       "      <th>CreditScore</th>\n",
       "      <th>Geography</th>\n",
       "      <th>Gender</th>\n",
       "      <th>Age</th>\n",
       "      <th>Tenure</th>\n",
       "      <th>Balance</th>\n",
       "      <th>NumOfProducts</th>\n",
       "      <th>HasCrCard</th>\n",
       "      <th>IsActiveMember</th>\n",
       "      <th>EstimatedSalary</th>\n",
       "      <th>Exited</th>\n",
       "    </tr>\n",
       "  </thead>\n",
       "  <tbody>\n",
       "    <tr>\n",
       "      <th>0</th>\n",
       "      <td>1</td>\n",
       "      <td>15634602</td>\n",
       "      <td>Hargrave</td>\n",
       "      <td>619</td>\n",
       "      <td>France</td>\n",
       "      <td>Female</td>\n",
       "      <td>42</td>\n",
       "      <td>2</td>\n",
       "      <td>0.00</td>\n",
       "      <td>1</td>\n",
       "      <td>1</td>\n",
       "      <td>1</td>\n",
       "      <td>101348.88</td>\n",
       "      <td>1</td>\n",
       "    </tr>\n",
       "    <tr>\n",
       "      <th>1</th>\n",
       "      <td>2</td>\n",
       "      <td>15647311</td>\n",
       "      <td>Hill</td>\n",
       "      <td>608</td>\n",
       "      <td>Spain</td>\n",
       "      <td>Female</td>\n",
       "      <td>41</td>\n",
       "      <td>1</td>\n",
       "      <td>83807.86</td>\n",
       "      <td>1</td>\n",
       "      <td>0</td>\n",
       "      <td>1</td>\n",
       "      <td>112542.58</td>\n",
       "      <td>0</td>\n",
       "    </tr>\n",
       "    <tr>\n",
       "      <th>2</th>\n",
       "      <td>3</td>\n",
       "      <td>15619304</td>\n",
       "      <td>Onio</td>\n",
       "      <td>502</td>\n",
       "      <td>France</td>\n",
       "      <td>Female</td>\n",
       "      <td>42</td>\n",
       "      <td>8</td>\n",
       "      <td>159660.80</td>\n",
       "      <td>3</td>\n",
       "      <td>1</td>\n",
       "      <td>0</td>\n",
       "      <td>113931.57</td>\n",
       "      <td>1</td>\n",
       "    </tr>\n",
       "    <tr>\n",
       "      <th>3</th>\n",
       "      <td>4</td>\n",
       "      <td>15701354</td>\n",
       "      <td>Boni</td>\n",
       "      <td>699</td>\n",
       "      <td>France</td>\n",
       "      <td>Female</td>\n",
       "      <td>39</td>\n",
       "      <td>1</td>\n",
       "      <td>0.00</td>\n",
       "      <td>2</td>\n",
       "      <td>0</td>\n",
       "      <td>0</td>\n",
       "      <td>93826.63</td>\n",
       "      <td>0</td>\n",
       "    </tr>\n",
       "    <tr>\n",
       "      <th>4</th>\n",
       "      <td>5</td>\n",
       "      <td>15737888</td>\n",
       "      <td>Mitchell</td>\n",
       "      <td>850</td>\n",
       "      <td>Spain</td>\n",
       "      <td>Female</td>\n",
       "      <td>43</td>\n",
       "      <td>2</td>\n",
       "      <td>125510.82</td>\n",
       "      <td>1</td>\n",
       "      <td>1</td>\n",
       "      <td>1</td>\n",
       "      <td>79084.10</td>\n",
       "      <td>0</td>\n",
       "    </tr>\n",
       "  </tbody>\n",
       "</table>\n",
       "</div>"
      ],
      "text/plain": [
       "   RowNumber  CustomerId   Surname  CreditScore Geography  Gender  Age  \\\n",
       "0          1    15634602  Hargrave          619    France  Female   42   \n",
       "1          2    15647311      Hill          608     Spain  Female   41   \n",
       "2          3    15619304      Onio          502    France  Female   42   \n",
       "3          4    15701354      Boni          699    France  Female   39   \n",
       "4          5    15737888  Mitchell          850     Spain  Female   43   \n",
       "\n",
       "   Tenure    Balance  NumOfProducts  HasCrCard  IsActiveMember  \\\n",
       "0       2       0.00              1          1               1   \n",
       "1       1   83807.86              1          0               1   \n",
       "2       8  159660.80              3          1               0   \n",
       "3       1       0.00              2          0               0   \n",
       "4       2  125510.82              1          1               1   \n",
       "\n",
       "   EstimatedSalary  Exited  \n",
       "0        101348.88       1  \n",
       "1        112542.58       0  \n",
       "2        113931.57       1  \n",
       "3         93826.63       0  \n",
       "4         79084.10       0  "
      ]
     },
     "execution_count": 6,
     "metadata": {},
     "output_type": "execute_result"
    }
   ],
   "source": [
    "df.head()"
   ]
  },
  {
   "cell_type": "code",
   "execution_count": 7,
   "id": "2fe2a88e-c637-406e-aa57-7c52be93f14b",
   "metadata": {},
   "outputs": [
    {
     "name": "stdout",
     "output_type": "stream",
     "text": [
      "<class 'pandas.core.frame.DataFrame'>\n",
      "RangeIndex: 10000 entries, 0 to 9999\n",
      "Data columns (total 14 columns):\n",
      " #   Column           Non-Null Count  Dtype  \n",
      "---  ------           --------------  -----  \n",
      " 0   RowNumber        10000 non-null  int64  \n",
      " 1   CustomerId       10000 non-null  int64  \n",
      " 2   Surname          10000 non-null  object \n",
      " 3   CreditScore      10000 non-null  int64  \n",
      " 4   Geography        10000 non-null  object \n",
      " 5   Gender           10000 non-null  object \n",
      " 6   Age              10000 non-null  int64  \n",
      " 7   Tenure           10000 non-null  int64  \n",
      " 8   Balance          10000 non-null  float64\n",
      " 9   NumOfProducts    10000 non-null  int64  \n",
      " 10  HasCrCard        10000 non-null  int64  \n",
      " 11  IsActiveMember   10000 non-null  int64  \n",
      " 12  EstimatedSalary  10000 non-null  float64\n",
      " 13  Exited           10000 non-null  int64  \n",
      "dtypes: float64(2), int64(9), object(3)\n",
      "memory usage: 1.1+ MB\n"
     ]
    }
   ],
   "source": [
    "df.info()"
   ]
  },
  {
   "cell_type": "code",
   "execution_count": 8,
   "id": "dfcdc735-8f1a-4f39-b478-99a65b856b88",
   "metadata": {},
   "outputs": [
    {
     "data": {
      "text/plain": [
       "0"
      ]
     },
     "execution_count": 8,
     "metadata": {},
     "output_type": "execute_result"
    }
   ],
   "source": [
    "df.duplicated().sum()"
   ]
  },
  {
   "cell_type": "code",
   "execution_count": 9,
   "id": "cfad8d5d-e5c8-414c-9e0b-8af5e61f0dd0",
   "metadata": {},
   "outputs": [
    {
     "data": {
      "text/plain": [
       "0    7963\n",
       "1    2037\n",
       "Name: Exited, dtype: int64"
      ]
     },
     "execution_count": 9,
     "metadata": {},
     "output_type": "execute_result"
    }
   ],
   "source": [
    "df['Exited'].value_counts()"
   ]
  },
  {
   "cell_type": "code",
   "execution_count": 12,
   "id": "93e6673a-1fbb-43cf-91fa-a46afe4ce82b",
   "metadata": {},
   "outputs": [
    {
     "data": {
      "text/plain": [
       "Male      5457\n",
       "Female    4543\n",
       "Name: Gender, dtype: int64"
      ]
     },
     "execution_count": 12,
     "metadata": {},
     "output_type": "execute_result"
    }
   ],
   "source": [
    "df['Gender'].value_counts()"
   ]
  },
  {
   "cell_type": "code",
   "execution_count": 13,
   "id": "5f9e3c8f-96e8-429e-b2e2-da03fd0ae226",
   "metadata": {},
   "outputs": [],
   "source": [
    "df.drop(columns = ['RowNumber','CustomerId','Surname'],inplace = True)"
   ]
  },
  {
   "cell_type": "code",
   "execution_count": 15,
   "id": "e0e818e3-f5ba-46a3-bf59-1d78a4936b28",
   "metadata": {},
   "outputs": [
    {
     "data": {
      "text/html": [
       "<div>\n",
       "<style scoped>\n",
       "    .dataframe tbody tr th:only-of-type {\n",
       "        vertical-align: middle;\n",
       "    }\n",
       "\n",
       "    .dataframe tbody tr th {\n",
       "        vertical-align: top;\n",
       "    }\n",
       "\n",
       "    .dataframe thead th {\n",
       "        text-align: right;\n",
       "    }\n",
       "</style>\n",
       "<table border=\"1\" class=\"dataframe\">\n",
       "  <thead>\n",
       "    <tr style=\"text-align: right;\">\n",
       "      <th></th>\n",
       "      <th>CreditScore</th>\n",
       "      <th>Geography</th>\n",
       "      <th>Gender</th>\n",
       "      <th>Age</th>\n",
       "      <th>Tenure</th>\n",
       "      <th>Balance</th>\n",
       "      <th>NumOfProducts</th>\n",
       "      <th>HasCrCard</th>\n",
       "      <th>IsActiveMember</th>\n",
       "      <th>EstimatedSalary</th>\n",
       "      <th>Exited</th>\n",
       "    </tr>\n",
       "  </thead>\n",
       "  <tbody>\n",
       "    <tr>\n",
       "      <th>0</th>\n",
       "      <td>619</td>\n",
       "      <td>France</td>\n",
       "      <td>Female</td>\n",
       "      <td>42</td>\n",
       "      <td>2</td>\n",
       "      <td>0.00</td>\n",
       "      <td>1</td>\n",
       "      <td>1</td>\n",
       "      <td>1</td>\n",
       "      <td>101348.88</td>\n",
       "      <td>1</td>\n",
       "    </tr>\n",
       "    <tr>\n",
       "      <th>1</th>\n",
       "      <td>608</td>\n",
       "      <td>Spain</td>\n",
       "      <td>Female</td>\n",
       "      <td>41</td>\n",
       "      <td>1</td>\n",
       "      <td>83807.86</td>\n",
       "      <td>1</td>\n",
       "      <td>0</td>\n",
       "      <td>1</td>\n",
       "      <td>112542.58</td>\n",
       "      <td>0</td>\n",
       "    </tr>\n",
       "    <tr>\n",
       "      <th>2</th>\n",
       "      <td>502</td>\n",
       "      <td>France</td>\n",
       "      <td>Female</td>\n",
       "      <td>42</td>\n",
       "      <td>8</td>\n",
       "      <td>159660.80</td>\n",
       "      <td>3</td>\n",
       "      <td>1</td>\n",
       "      <td>0</td>\n",
       "      <td>113931.57</td>\n",
       "      <td>1</td>\n",
       "    </tr>\n",
       "    <tr>\n",
       "      <th>3</th>\n",
       "      <td>699</td>\n",
       "      <td>France</td>\n",
       "      <td>Female</td>\n",
       "      <td>39</td>\n",
       "      <td>1</td>\n",
       "      <td>0.00</td>\n",
       "      <td>2</td>\n",
       "      <td>0</td>\n",
       "      <td>0</td>\n",
       "      <td>93826.63</td>\n",
       "      <td>0</td>\n",
       "    </tr>\n",
       "    <tr>\n",
       "      <th>4</th>\n",
       "      <td>850</td>\n",
       "      <td>Spain</td>\n",
       "      <td>Female</td>\n",
       "      <td>43</td>\n",
       "      <td>2</td>\n",
       "      <td>125510.82</td>\n",
       "      <td>1</td>\n",
       "      <td>1</td>\n",
       "      <td>1</td>\n",
       "      <td>79084.10</td>\n",
       "      <td>0</td>\n",
       "    </tr>\n",
       "  </tbody>\n",
       "</table>\n",
       "</div>"
      ],
      "text/plain": [
       "   CreditScore Geography  Gender  Age  Tenure    Balance  NumOfProducts  \\\n",
       "0          619    France  Female   42       2       0.00              1   \n",
       "1          608     Spain  Female   41       1   83807.86              1   \n",
       "2          502    France  Female   42       8  159660.80              3   \n",
       "3          699    France  Female   39       1       0.00              2   \n",
       "4          850     Spain  Female   43       2  125510.82              1   \n",
       "\n",
       "   HasCrCard  IsActiveMember  EstimatedSalary  Exited  \n",
       "0          1               1        101348.88       1  \n",
       "1          0               1        112542.58       0  \n",
       "2          1               0        113931.57       1  \n",
       "3          0               0         93826.63       0  \n",
       "4          1               1         79084.10       0  "
      ]
     },
     "execution_count": 15,
     "metadata": {},
     "output_type": "execute_result"
    }
   ],
   "source": [
    "df.head()"
   ]
  },
  {
   "cell_type": "code",
   "execution_count": 21,
   "id": "28e2ee2c-575a-485f-9b3f-61055877dba1",
   "metadata": {},
   "outputs": [],
   "source": [
    "df = pd.get_dummies(df, columns = ['Geography', 'Gender'], drop_first = True)"
   ]
  },
  {
   "cell_type": "code",
   "execution_count": 22,
   "id": "3ce2bff4-f7e4-4833-9f52-6fa1e2001744",
   "metadata": {},
   "outputs": [
    {
     "data": {
      "text/html": [
       "<div>\n",
       "<style scoped>\n",
       "    .dataframe tbody tr th:only-of-type {\n",
       "        vertical-align: middle;\n",
       "    }\n",
       "\n",
       "    .dataframe tbody tr th {\n",
       "        vertical-align: top;\n",
       "    }\n",
       "\n",
       "    .dataframe thead th {\n",
       "        text-align: right;\n",
       "    }\n",
       "</style>\n",
       "<table border=\"1\" class=\"dataframe\">\n",
       "  <thead>\n",
       "    <tr style=\"text-align: right;\">\n",
       "      <th></th>\n",
       "      <th>CreditScore</th>\n",
       "      <th>Age</th>\n",
       "      <th>Tenure</th>\n",
       "      <th>Balance</th>\n",
       "      <th>NumOfProducts</th>\n",
       "      <th>HasCrCard</th>\n",
       "      <th>IsActiveMember</th>\n",
       "      <th>EstimatedSalary</th>\n",
       "      <th>Exited</th>\n",
       "      <th>Geography_Germany</th>\n",
       "      <th>Geography_Spain</th>\n",
       "      <th>Gender_Male</th>\n",
       "    </tr>\n",
       "  </thead>\n",
       "  <tbody>\n",
       "    <tr>\n",
       "      <th>0</th>\n",
       "      <td>619</td>\n",
       "      <td>42</td>\n",
       "      <td>2</td>\n",
       "      <td>0.00</td>\n",
       "      <td>1</td>\n",
       "      <td>1</td>\n",
       "      <td>1</td>\n",
       "      <td>101348.88</td>\n",
       "      <td>1</td>\n",
       "      <td>0</td>\n",
       "      <td>0</td>\n",
       "      <td>0</td>\n",
       "    </tr>\n",
       "    <tr>\n",
       "      <th>1</th>\n",
       "      <td>608</td>\n",
       "      <td>41</td>\n",
       "      <td>1</td>\n",
       "      <td>83807.86</td>\n",
       "      <td>1</td>\n",
       "      <td>0</td>\n",
       "      <td>1</td>\n",
       "      <td>112542.58</td>\n",
       "      <td>0</td>\n",
       "      <td>0</td>\n",
       "      <td>1</td>\n",
       "      <td>0</td>\n",
       "    </tr>\n",
       "    <tr>\n",
       "      <th>2</th>\n",
       "      <td>502</td>\n",
       "      <td>42</td>\n",
       "      <td>8</td>\n",
       "      <td>159660.80</td>\n",
       "      <td>3</td>\n",
       "      <td>1</td>\n",
       "      <td>0</td>\n",
       "      <td>113931.57</td>\n",
       "      <td>1</td>\n",
       "      <td>0</td>\n",
       "      <td>0</td>\n",
       "      <td>0</td>\n",
       "    </tr>\n",
       "    <tr>\n",
       "      <th>3</th>\n",
       "      <td>699</td>\n",
       "      <td>39</td>\n",
       "      <td>1</td>\n",
       "      <td>0.00</td>\n",
       "      <td>2</td>\n",
       "      <td>0</td>\n",
       "      <td>0</td>\n",
       "      <td>93826.63</td>\n",
       "      <td>0</td>\n",
       "      <td>0</td>\n",
       "      <td>0</td>\n",
       "      <td>0</td>\n",
       "    </tr>\n",
       "    <tr>\n",
       "      <th>4</th>\n",
       "      <td>850</td>\n",
       "      <td>43</td>\n",
       "      <td>2</td>\n",
       "      <td>125510.82</td>\n",
       "      <td>1</td>\n",
       "      <td>1</td>\n",
       "      <td>1</td>\n",
       "      <td>79084.10</td>\n",
       "      <td>0</td>\n",
       "      <td>0</td>\n",
       "      <td>1</td>\n",
       "      <td>0</td>\n",
       "    </tr>\n",
       "    <tr>\n",
       "      <th>...</th>\n",
       "      <td>...</td>\n",
       "      <td>...</td>\n",
       "      <td>...</td>\n",
       "      <td>...</td>\n",
       "      <td>...</td>\n",
       "      <td>...</td>\n",
       "      <td>...</td>\n",
       "      <td>...</td>\n",
       "      <td>...</td>\n",
       "      <td>...</td>\n",
       "      <td>...</td>\n",
       "      <td>...</td>\n",
       "    </tr>\n",
       "    <tr>\n",
       "      <th>9995</th>\n",
       "      <td>771</td>\n",
       "      <td>39</td>\n",
       "      <td>5</td>\n",
       "      <td>0.00</td>\n",
       "      <td>2</td>\n",
       "      <td>1</td>\n",
       "      <td>0</td>\n",
       "      <td>96270.64</td>\n",
       "      <td>0</td>\n",
       "      <td>0</td>\n",
       "      <td>0</td>\n",
       "      <td>1</td>\n",
       "    </tr>\n",
       "    <tr>\n",
       "      <th>9996</th>\n",
       "      <td>516</td>\n",
       "      <td>35</td>\n",
       "      <td>10</td>\n",
       "      <td>57369.61</td>\n",
       "      <td>1</td>\n",
       "      <td>1</td>\n",
       "      <td>1</td>\n",
       "      <td>101699.77</td>\n",
       "      <td>0</td>\n",
       "      <td>0</td>\n",
       "      <td>0</td>\n",
       "      <td>1</td>\n",
       "    </tr>\n",
       "    <tr>\n",
       "      <th>9997</th>\n",
       "      <td>709</td>\n",
       "      <td>36</td>\n",
       "      <td>7</td>\n",
       "      <td>0.00</td>\n",
       "      <td>1</td>\n",
       "      <td>0</td>\n",
       "      <td>1</td>\n",
       "      <td>42085.58</td>\n",
       "      <td>1</td>\n",
       "      <td>0</td>\n",
       "      <td>0</td>\n",
       "      <td>0</td>\n",
       "    </tr>\n",
       "    <tr>\n",
       "      <th>9998</th>\n",
       "      <td>772</td>\n",
       "      <td>42</td>\n",
       "      <td>3</td>\n",
       "      <td>75075.31</td>\n",
       "      <td>2</td>\n",
       "      <td>1</td>\n",
       "      <td>0</td>\n",
       "      <td>92888.52</td>\n",
       "      <td>1</td>\n",
       "      <td>1</td>\n",
       "      <td>0</td>\n",
       "      <td>1</td>\n",
       "    </tr>\n",
       "    <tr>\n",
       "      <th>9999</th>\n",
       "      <td>792</td>\n",
       "      <td>28</td>\n",
       "      <td>4</td>\n",
       "      <td>130142.79</td>\n",
       "      <td>1</td>\n",
       "      <td>1</td>\n",
       "      <td>0</td>\n",
       "      <td>38190.78</td>\n",
       "      <td>0</td>\n",
       "      <td>0</td>\n",
       "      <td>0</td>\n",
       "      <td>0</td>\n",
       "    </tr>\n",
       "  </tbody>\n",
       "</table>\n",
       "<p>10000 rows × 12 columns</p>\n",
       "</div>"
      ],
      "text/plain": [
       "      CreditScore  Age  Tenure    Balance  NumOfProducts  HasCrCard  \\\n",
       "0             619   42       2       0.00              1          1   \n",
       "1             608   41       1   83807.86              1          0   \n",
       "2             502   42       8  159660.80              3          1   \n",
       "3             699   39       1       0.00              2          0   \n",
       "4             850   43       2  125510.82              1          1   \n",
       "...           ...  ...     ...        ...            ...        ...   \n",
       "9995          771   39       5       0.00              2          1   \n",
       "9996          516   35      10   57369.61              1          1   \n",
       "9997          709   36       7       0.00              1          0   \n",
       "9998          772   42       3   75075.31              2          1   \n",
       "9999          792   28       4  130142.79              1          1   \n",
       "\n",
       "      IsActiveMember  EstimatedSalary  Exited  Geography_Germany  \\\n",
       "0                  1        101348.88       1                  0   \n",
       "1                  1        112542.58       0                  0   \n",
       "2                  0        113931.57       1                  0   \n",
       "3                  0         93826.63       0                  0   \n",
       "4                  1         79084.10       0                  0   \n",
       "...              ...              ...     ...                ...   \n",
       "9995               0         96270.64       0                  0   \n",
       "9996               1        101699.77       0                  0   \n",
       "9997               1         42085.58       1                  0   \n",
       "9998               0         92888.52       1                  1   \n",
       "9999               0         38190.78       0                  0   \n",
       "\n",
       "      Geography_Spain  Gender_Male  \n",
       "0                   0            0  \n",
       "1                   1            0  \n",
       "2                   0            0  \n",
       "3                   0            0  \n",
       "4                   1            0  \n",
       "...               ...          ...  \n",
       "9995                0            1  \n",
       "9996                0            1  \n",
       "9997                0            0  \n",
       "9998                0            1  \n",
       "9999                0            0  \n",
       "\n",
       "[10000 rows x 12 columns]"
      ]
     },
     "execution_count": 22,
     "metadata": {},
     "output_type": "execute_result"
    }
   ],
   "source": [
    "df"
   ]
  },
  {
   "cell_type": "code",
   "execution_count": 23,
   "id": "208ed505-0d55-4c30-84eb-13c2e1efa431",
   "metadata": {},
   "outputs": [],
   "source": [
    "X = df.drop(columns = ['Exited'])\n",
    "y = df['Exited']"
   ]
  },
  {
   "cell_type": "code",
   "execution_count": 24,
   "id": "aa6b6f8f-0e86-47fc-a05b-65b76b4c700e",
   "metadata": {},
   "outputs": [],
   "source": [
    "from sklearn.model_selection import train_test_split\n",
    "X_train, X_test, y_train, y_test = train_test_split(X,y, test_size=  0.2, random_state=1)"
   ]
  },
  {
   "cell_type": "markdown",
   "id": "c31bb34f-7463-4408-a969-adb05567a286",
   "metadata": {},
   "source": [
    "## Scaling the values"
   ]
  },
  {
   "cell_type": "code",
   "execution_count": 25,
   "id": "0a584eb1-d655-45b6-bc3a-0f9b382d7ce6",
   "metadata": {},
   "outputs": [],
   "source": [
    "from sklearn.preprocessing import StandardScaler\n",
    "scaler = StandardScaler()\n",
    "\n",
    "X_train_scaled = scaler.fit_transform(X_train)\n",
    "X_test_scaled = scaler.fit_transform(X_test)"
   ]
  },
  {
   "cell_type": "code",
   "execution_count": 26,
   "id": "51be98ff-8eaf-4923-95b4-7e3690411bcd",
   "metadata": {},
   "outputs": [
    {
     "data": {
      "text/plain": [
       "array([[-0.23082038, -0.94449979, -0.70174202, ...,  1.71490137,\n",
       "        -0.57273139,  0.91509065],\n",
       "       [-0.25150912, -0.94449979, -0.35520275, ..., -0.58312392,\n",
       "        -0.57273139, -1.09278791],\n",
       "       [-0.3963303 ,  0.77498705,  0.33787579, ...,  1.71490137,\n",
       "        -0.57273139, -1.09278791],\n",
       "       ...,\n",
       "       [ 0.22433188,  0.58393295,  1.3774936 , ..., -0.58312392,\n",
       "        -0.57273139, -1.09278791],\n",
       "       [ 0.13123255,  0.01077067,  1.03095433, ..., -0.58312392,\n",
       "        -0.57273139, -1.09278791],\n",
       "       [ 1.1656695 ,  0.29735181,  0.33787579, ...,  1.71490137,\n",
       "        -0.57273139,  0.91509065]])"
      ]
     },
     "execution_count": 26,
     "metadata": {},
     "output_type": "execute_result"
    }
   ],
   "source": [
    "X_train_scaled"
   ]
  },
  {
   "cell_type": "code",
   "execution_count": 29,
   "id": "3a84ae58-283c-4363-bbc6-1db405e181c1",
   "metadata": {},
   "outputs": [],
   "source": [
    "import tensorflow\n",
    "from tensorflow import keras \n",
    "from tensorflow.keras import Sequential\n",
    "from tensorflow.keras.layers import Dense"
   ]
  },
  {
   "cell_type": "code",
   "execution_count": 45,
   "id": "c62c0b02-e1a1-4e54-ab9b-9a62cddf737d",
   "metadata": {},
   "outputs": [],
   "source": [
    "model  = Sequential()\n",
    "\n",
    "model.add(Dense(11,activation = 'relu', input_dim = 11))\n",
    "model.add(Dense(11,activation = 'relu'))\n",
    "model.add(Dense(1, activation = 'sigmoid'))"
   ]
  },
  {
   "cell_type": "code",
   "execution_count": 46,
   "id": "b7d78d09-9034-45b3-a5af-1804ae53ce46",
   "metadata": {},
   "outputs": [
    {
     "name": "stdout",
     "output_type": "stream",
     "text": [
      "Model: \"sequential_1\"\n",
      "_________________________________________________________________\n",
      " Layer (type)                Output Shape              Param #   \n",
      "=================================================================\n",
      " dense_2 (Dense)             (None, 11)                132       \n",
      "                                                                 \n",
      " dense_3 (Dense)             (None, 11)                132       \n",
      "                                                                 \n",
      " dense_4 (Dense)             (None, 1)                 12        \n",
      "                                                                 \n",
      "=================================================================\n",
      "Total params: 276\n",
      "Trainable params: 276\n",
      "Non-trainable params: 0\n",
      "_________________________________________________________________\n"
     ]
    }
   ],
   "source": [
    "model.summary()"
   ]
  },
  {
   "cell_type": "code",
   "execution_count": 47,
   "id": "3b4fd3d9-1a5b-4299-a2d6-9ccaf9f16a94",
   "metadata": {},
   "outputs": [],
   "source": [
    "model.compile(loss = 'binary_crossentropy', optimizer = 'Adam', metrics=['accuracy'])"
   ]
  },
  {
   "cell_type": "code",
   "execution_count": 64,
   "id": "ae75b2d0-bb94-4f0c-b756-7e87f32ec98c",
   "metadata": {},
   "outputs": [
    {
     "name": "stdout",
     "output_type": "stream",
     "text": [
      "Epoch 1/30\n",
      "200/200 [==============================] - 1s 4ms/step - loss: 0.3408 - accuracy: 0.8622 - val_loss: 0.3493 - val_accuracy: 0.8569\n",
      "Epoch 2/30\n",
      "200/200 [==============================] - 1s 3ms/step - loss: 0.3407 - accuracy: 0.8612 - val_loss: 0.3485 - val_accuracy: 0.8556\n",
      "Epoch 3/30\n",
      "200/200 [==============================] - 1s 3ms/step - loss: 0.3393 - accuracy: 0.8627 - val_loss: 0.3504 - val_accuracy: 0.8525\n",
      "Epoch 4/30\n",
      "200/200 [==============================] - 1s 4ms/step - loss: 0.3389 - accuracy: 0.8631 - val_loss: 0.3494 - val_accuracy: 0.8575\n",
      "Epoch 5/30\n",
      "200/200 [==============================] - 1s 4ms/step - loss: 0.3382 - accuracy: 0.8625 - val_loss: 0.3481 - val_accuracy: 0.8587\n",
      "Epoch 6/30\n",
      "200/200 [==============================] - 1s 4ms/step - loss: 0.3378 - accuracy: 0.8623 - val_loss: 0.3471 - val_accuracy: 0.8569\n",
      "Epoch 7/30\n",
      "200/200 [==============================] - 1s 3ms/step - loss: 0.3372 - accuracy: 0.8620 - val_loss: 0.3483 - val_accuracy: 0.8587\n",
      "Epoch 8/30\n",
      "200/200 [==============================] - 1s 3ms/step - loss: 0.3369 - accuracy: 0.8639 - val_loss: 0.3478 - val_accuracy: 0.8575\n",
      "Epoch 9/30\n",
      "200/200 [==============================] - 1s 3ms/step - loss: 0.3361 - accuracy: 0.8630 - val_loss: 0.3475 - val_accuracy: 0.8569\n",
      "Epoch 10/30\n",
      "200/200 [==============================] - 1s 3ms/step - loss: 0.3357 - accuracy: 0.8630 - val_loss: 0.3509 - val_accuracy: 0.8506\n",
      "Epoch 11/30\n",
      "200/200 [==============================] - 1s 3ms/step - loss: 0.3355 - accuracy: 0.8637 - val_loss: 0.3476 - val_accuracy: 0.8537\n",
      "Epoch 12/30\n",
      "200/200 [==============================] - 1s 3ms/step - loss: 0.3347 - accuracy: 0.8634 - val_loss: 0.3476 - val_accuracy: 0.8531\n",
      "Epoch 13/30\n",
      "200/200 [==============================] - 1s 3ms/step - loss: 0.3343 - accuracy: 0.8633 - val_loss: 0.3470 - val_accuracy: 0.8569\n",
      "Epoch 14/30\n",
      "200/200 [==============================] - 1s 3ms/step - loss: 0.3335 - accuracy: 0.8641 - val_loss: 0.3479 - val_accuracy: 0.8550\n",
      "Epoch 15/30\n",
      "200/200 [==============================] - 1s 3ms/step - loss: 0.3329 - accuracy: 0.8642 - val_loss: 0.3461 - val_accuracy: 0.8562\n",
      "Epoch 16/30\n",
      "200/200 [==============================] - 1s 3ms/step - loss: 0.3328 - accuracy: 0.8636 - val_loss: 0.3473 - val_accuracy: 0.8537\n",
      "Epoch 17/30\n",
      "200/200 [==============================] - 1s 3ms/step - loss: 0.3322 - accuracy: 0.8653 - val_loss: 0.3459 - val_accuracy: 0.8556\n",
      "Epoch 18/30\n",
      "200/200 [==============================] - 1s 3ms/step - loss: 0.3320 - accuracy: 0.8620 - val_loss: 0.3459 - val_accuracy: 0.8550\n",
      "Epoch 19/30\n",
      "200/200 [==============================] - 1s 3ms/step - loss: 0.3313 - accuracy: 0.8634 - val_loss: 0.3474 - val_accuracy: 0.8562\n",
      "Epoch 20/30\n",
      "200/200 [==============================] - 1s 3ms/step - loss: 0.3310 - accuracy: 0.8648 - val_loss: 0.3468 - val_accuracy: 0.8562\n",
      "Epoch 21/30\n",
      "200/200 [==============================] - 1s 3ms/step - loss: 0.3304 - accuracy: 0.8639 - val_loss: 0.3486 - val_accuracy: 0.8562\n",
      "Epoch 22/30\n",
      "200/200 [==============================] - 1s 3ms/step - loss: 0.3304 - accuracy: 0.8659 - val_loss: 0.3476 - val_accuracy: 0.8550\n",
      "Epoch 23/30\n",
      "200/200 [==============================] - 1s 3ms/step - loss: 0.3302 - accuracy: 0.8659 - val_loss: 0.3462 - val_accuracy: 0.8531\n",
      "Epoch 24/30\n",
      "200/200 [==============================] - 1s 3ms/step - loss: 0.3301 - accuracy: 0.8645 - val_loss: 0.3463 - val_accuracy: 0.8544\n",
      "Epoch 25/30\n",
      "200/200 [==============================] - 1s 3ms/step - loss: 0.3292 - accuracy: 0.8642 - val_loss: 0.3464 - val_accuracy: 0.8569\n",
      "Epoch 26/30\n",
      "200/200 [==============================] - 1s 3ms/step - loss: 0.3287 - accuracy: 0.8631 - val_loss: 0.3462 - val_accuracy: 0.8525\n",
      "Epoch 27/30\n",
      "200/200 [==============================] - 1s 3ms/step - loss: 0.3287 - accuracy: 0.8636 - val_loss: 0.3472 - val_accuracy: 0.8550\n",
      "Epoch 28/30\n",
      "200/200 [==============================] - 1s 3ms/step - loss: 0.3276 - accuracy: 0.8653 - val_loss: 0.3482 - val_accuracy: 0.8562\n",
      "Epoch 29/30\n",
      "200/200 [==============================] - 1s 3ms/step - loss: 0.3278 - accuracy: 0.8652 - val_loss: 0.3465 - val_accuracy: 0.8537\n",
      "Epoch 30/30\n",
      "200/200 [==============================] - 1s 3ms/step - loss: 0.3280 - accuracy: 0.8637 - val_loss: 0.3466 - val_accuracy: 0.8531\n"
     ]
    }
   ],
   "source": [
    "history = model.fit(X_train_scaled, y_train, epochs = 30, validation_split=0.2)"
   ]
  },
  {
   "cell_type": "code",
   "execution_count": 65,
   "id": "d65102ae-ca23-4ef3-bd0f-5ee0aeb239a5",
   "metadata": {},
   "outputs": [
    {
     "data": {
      "text/plain": [
       "[array([[ 6.12040907e-02, -1.78232157e+00, -4.77493644e-01,\n",
       "         -3.98094416e-01, -1.09652899e-01, -4.55401301e-01,\n",
       "         -6.78271472e-01, -4.46344554e-01, -5.28214455e-01,\n",
       "         -3.08742017e-01,  9.75542426e-01],\n",
       "        [-2.54205346e-01, -3.04067045e-01,  3.02829146e-01,\n",
       "         -1.01337321e-01,  4.11525935e-01, -1.54697388e-01,\n",
       "         -5.08601218e-02,  4.96585608e-01,  3.15894574e-01,\n",
       "         -4.65739220e-01,  4.06492710e-01],\n",
       "        [-2.88566440e-01,  1.53392658e-01,  4.11638558e-01,\n",
       "         -2.99019784e-01, -1.02274299e-01,  1.33196712e-01,\n",
       "          1.81510642e-01,  2.17286929e-01,  4.13415991e-02,\n",
       "          1.42619565e-01, -1.35685563e-01],\n",
       "        [ 6.37684949e-03, -2.11900949e-01, -3.71267229e-01,\n",
       "          4.77214187e-01,  2.14408949e-01, -4.80427295e-01,\n",
       "         -7.09770739e-01,  6.07714593e-01, -2.03269526e-01,\n",
       "          2.98173875e-01, -1.92131832e-01],\n",
       "        [ 1.82627559e-01,  7.21434534e-01,  1.20284863e-01,\n",
       "         -1.23631395e-01,  5.33497818e-02, -1.20353615e-02,\n",
       "         -4.29783344e-01, -9.99076515e-02, -2.03652710e-01,\n",
       "          5.33535957e-01, -1.77011564e-01],\n",
       "        [-1.90750677e-02,  1.77788332e-01,  4.23625737e-01,\n",
       "          2.15952858e-01, -1.69651955e-01,  4.32129025e-01,\n",
       "         -2.08525598e-01, -9.05561298e-02,  5.58368564e-01,\n",
       "         -3.12250644e-01,  7.25434780e-01],\n",
       "        [-3.39606702e-01, -6.88644469e-01, -3.21444601e-01,\n",
       "         -2.11673409e-01, -7.00832307e-02, -2.41851896e-01,\n",
       "         -4.61201251e-01, -2.56240815e-01, -3.39589477e-01,\n",
       "         -4.22832340e-01,  8.57270539e-01],\n",
       "        [-4.49646294e-01, -4.25917469e-02,  3.94350141e-02,\n",
       "          2.42987543e-01,  4.55170423e-01, -3.17577422e-02,\n",
       "          4.93353978e-02,  5.66266358e-01, -4.92988706e-01,\n",
       "          6.69360638e-01, -3.12489390e-01],\n",
       "        [ 5.60906231e-01, -3.33038718e-01, -1.52420683e-03,\n",
       "          2.25331858e-01,  4.17745352e-01,  4.12508458e-01,\n",
       "          6.39096618e-01, -6.68842869e-04,  5.67056611e-02,\n",
       "          3.66850793e-01,  5.34158766e-01],\n",
       "        [-4.27079439e-01,  2.53328711e-01, -3.32206935e-01,\n",
       "         -3.59035619e-02, -1.11003086e-01, -2.51632243e-01,\n",
       "          4.43153322e-01,  3.85622591e-01,  4.64850187e-01,\n",
       "         -7.48738110e-01, -2.21464142e-01],\n",
       "        [-2.20313370e-01,  3.19467247e-01,  4.08139490e-02,\n",
       "          1.78050429e-01,  2.54769266e-01,  2.50943512e-01,\n",
       "          3.40675116e-01,  3.72783989e-01,  5.49239039e-01,\n",
       "          1.51101314e-02,  2.26346493e-01]], dtype=float32),\n",
       " array([ 0.10698517,  0.08917967,  0.44960597,  0.28532308, -0.04738597,\n",
       "         0.40959448, -0.35877296,  0.04957519,  0.594295  , -0.02298045,\n",
       "         0.03369794], dtype=float32)]"
      ]
     },
     "execution_count": 65,
     "metadata": {},
     "output_type": "execute_result"
    }
   ],
   "source": [
    "model.layers[1].get_weights()"
   ]
  },
  {
   "cell_type": "code",
   "execution_count": 66,
   "id": "c6c3fdc3-710f-4bc6-9c95-7eb0e063735e",
   "metadata": {},
   "outputs": [
    {
     "name": "stdout",
     "output_type": "stream",
     "text": [
      "63/63 [==============================] - 0s 1ms/step\n"
     ]
    }
   ],
   "source": [
    "y_log = model.predict(X_test_scaled)"
   ]
  },
  {
   "cell_type": "code",
   "execution_count": 67,
   "id": "18f2f8d8-73e8-43bf-b127-d2e7106bef05",
   "metadata": {},
   "outputs": [],
   "source": [
    "y_pred = np.where(y_log > 0.5, 1, 0)"
   ]
  },
  {
   "cell_type": "code",
   "execution_count": 68,
   "id": "572ffd34-cb5b-47bd-ae25-18a61f3ed599",
   "metadata": {},
   "outputs": [
    {
     "data": {
      "text/plain": [
       "0.8635"
      ]
     },
     "execution_count": 68,
     "metadata": {},
     "output_type": "execute_result"
    }
   ],
   "source": [
    "from sklearn.metrics import accuracy_score\n",
    "accuracy_score(y_test, y_pred)"
   ]
  },
  {
   "cell_type": "code",
   "execution_count": 69,
   "id": "18803d79-737b-4fc1-ba82-2413bd7bd87d",
   "metadata": {},
   "outputs": [],
   "source": [
    "import matplotlib.pyplot as plt\n"
   ]
  },
  {
   "cell_type": "code",
   "execution_count": 70,
   "id": "2909713d-23f0-4e54-ae03-d5c95d8abbc4",
   "metadata": {},
   "outputs": [
    {
     "data": {
      "text/plain": [
       "{'loss': [0.3407727777957916,\n",
       "  0.3407098650932312,\n",
       "  0.3392956852912903,\n",
       "  0.33888939023017883,\n",
       "  0.3382420241832733,\n",
       "  0.33783063292503357,\n",
       "  0.3371508717536926,\n",
       "  0.33685821294784546,\n",
       "  0.3360888361930847,\n",
       "  0.33568060398101807,\n",
       "  0.33546921610832214,\n",
       "  0.3346586227416992,\n",
       "  0.3342619836330414,\n",
       "  0.3334752023220062,\n",
       "  0.33287879824638367,\n",
       "  0.33278071880340576,\n",
       "  0.3322004973888397,\n",
       "  0.33200082182884216,\n",
       "  0.3312895894050598,\n",
       "  0.330992192029953,\n",
       "  0.33044567704200745,\n",
       "  0.33041465282440186,\n",
       "  0.33015280961990356,\n",
       "  0.3300560414791107,\n",
       "  0.32918184995651245,\n",
       "  0.3287426829338074,\n",
       "  0.32871630787849426,\n",
       "  0.3275965452194214,\n",
       "  0.32782524824142456,\n",
       "  0.3280234932899475],\n",
       " 'accuracy': [0.8621875047683716,\n",
       "  0.8612499833106995,\n",
       "  0.8626562356948853,\n",
       "  0.8631250262260437,\n",
       "  0.862500011920929,\n",
       "  0.8623437285423279,\n",
       "  0.8620312213897705,\n",
       "  0.8639062643051147,\n",
       "  0.8629687428474426,\n",
       "  0.8629687428474426,\n",
       "  0.8637499809265137,\n",
       "  0.8634374737739563,\n",
       "  0.86328125,\n",
       "  0.864062488079071,\n",
       "  0.8642187714576721,\n",
       "  0.8635937571525574,\n",
       "  0.8653125166893005,\n",
       "  0.8620312213897705,\n",
       "  0.8634374737739563,\n",
       "  0.8648437261581421,\n",
       "  0.8639062643051147,\n",
       "  0.8659374713897705,\n",
       "  0.8659374713897705,\n",
       "  0.8645312786102295,\n",
       "  0.8642187714576721,\n",
       "  0.8631250262260437,\n",
       "  0.8635937571525574,\n",
       "  0.8653125166893005,\n",
       "  0.8651562333106995,\n",
       "  0.8637499809265137],\n",
       " 'val_loss': [0.3493086099624634,\n",
       "  0.3484964072704315,\n",
       "  0.3503926992416382,\n",
       "  0.34938159584999084,\n",
       "  0.3481329083442688,\n",
       "  0.3470947742462158,\n",
       "  0.3482672870159149,\n",
       "  0.3477737009525299,\n",
       "  0.3474788963794708,\n",
       "  0.3509491980075836,\n",
       "  0.3476286232471466,\n",
       "  0.34757667779922485,\n",
       "  0.3469686210155487,\n",
       "  0.3478648066520691,\n",
       "  0.3460864722728729,\n",
       "  0.3473096787929535,\n",
       "  0.34592700004577637,\n",
       "  0.34594762325286865,\n",
       "  0.3473632037639618,\n",
       "  0.3468245267868042,\n",
       "  0.3486154079437256,\n",
       "  0.3475850820541382,\n",
       "  0.34617459774017334,\n",
       "  0.3463234305381775,\n",
       "  0.3463629484176636,\n",
       "  0.34615352749824524,\n",
       "  0.3471747636795044,\n",
       "  0.3481985032558441,\n",
       "  0.34652161598205566,\n",
       "  0.3465856909751892],\n",
       " 'val_accuracy': [0.8568750023841858,\n",
       "  0.8556249737739563,\n",
       "  0.8525000214576721,\n",
       "  0.8575000166893005,\n",
       "  0.8587499856948853,\n",
       "  0.8568750023841858,\n",
       "  0.8587499856948853,\n",
       "  0.8575000166893005,\n",
       "  0.8568750023841858,\n",
       "  0.8506249785423279,\n",
       "  0.8537499904632568,\n",
       "  0.8531249761581421,\n",
       "  0.8568750023841858,\n",
       "  0.8550000190734863,\n",
       "  0.856249988079071,\n",
       "  0.8537499904632568,\n",
       "  0.8556249737739563,\n",
       "  0.8550000190734863,\n",
       "  0.856249988079071,\n",
       "  0.856249988079071,\n",
       "  0.856249988079071,\n",
       "  0.8550000190734863,\n",
       "  0.8531249761581421,\n",
       "  0.8543750047683716,\n",
       "  0.8568750023841858,\n",
       "  0.8525000214576721,\n",
       "  0.8550000190734863,\n",
       "  0.856249988079071,\n",
       "  0.8537499904632568,\n",
       "  0.8531249761581421]}"
      ]
     },
     "execution_count": 70,
     "metadata": {},
     "output_type": "execute_result"
    }
   ],
   "source": [
    "history.history"
   ]
  },
  {
   "cell_type": "code",
   "execution_count": 71,
   "id": "31e3eab2-1d6b-44b8-a27e-741c1ac99e41",
   "metadata": {},
   "outputs": [
    {
     "data": {
      "text/plain": [
       "[<matplotlib.lines.Line2D at 0x2554399bd30>]"
      ]
     },
     "execution_count": 71,
     "metadata": {},
     "output_type": "execute_result"
    },
    {
     "data": {
      "image/png": "[encoded data removed]",
      "text/plain": [
       "<Figure size 640x480 with 1 Axes>"
      ]
     },
     "metadata": {},
     "output_type": "display_data"
    }
   ],
   "source": [
    "plt.plot(history.history['loss'])\n",
    "plt.plot(history.history['val_loss'])"
   ]
  },
  {
   "cell_type": "code",
   "execution_count": 72,
   "id": "e01c2790-a82c-4add-b9fc-5650750793e6",
   "metadata": {},
   "outputs": [
    {
     "data": {
      "text/plain": [
       "[<matplotlib.lines.Line2D at 0x25543ab09d0>]"
      ]
     },
     "execution_count": 72,
     "metadata": {},
     "output_type": "execute_result"
    },
    {
     "data": {
      "image/png": "[encoded data removed]",
      "text/plain": [
       "<Figure size 640x480 with 1 Axes>"
      ]
     },
     "metadata": {},
     "output_type": "display_data"
    }
   ],
   "source": [
    "plt.plot(history.history['accuracy'])\n",
    "plt.plot(history.history['val_accuracy'])"
   ]
  },
  {
   "cell_type": "code",
   "execution_count": null,
   "id": "ade7ffb0-a4b9-4b99-bd56-a5c5445b7ddc",
   "metadata": {},
   "outputs": [],
   "source": []
  }
 ],
 "metadata": {
  "kernelspec": {
   "display_name": "Python 3 (ipykernel)",
   "language": "python",
   "name": "python3"
  },
  "language_info": {
   "codemirror_mode": {
    "name": "ipython",
    "version": 3
   },
   "file_extension": ".py",
   "mimetype": "text/x-python",
   "name": "python",
   "nbconvert_exporter": "python",
   "pygments_lexer": "ipython3",
   "version": "3.10.11"
  }
 },
 "nbformat": 4,
 "nbformat_minor": 5
}
