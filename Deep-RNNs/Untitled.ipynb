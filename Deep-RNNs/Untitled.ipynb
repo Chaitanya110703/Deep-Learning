{
 "cells": [
  {
   "cell_type": "code",
   "execution_count": 1,
   "id": "6d27d72f-5208-4426-85c7-6c98f500e74b",
   "metadata": {},
   "outputs": [],
   "source": [
    "import tensorflow as tf\n",
    "from tensorflow.keras.datasets import imdb\n",
    "from tensorflow.keras.preprocessing.sequence import pad_sequences\n",
    "from tensorflow.keras.models import Sequential\n",
    "from tensorflow.keras.layers import Embedding, SimpleRNN, Dense"
   ]
  },
  {
   "cell_type": "code",
   "execution_count": 2,
   "id": "e8b79d7d-3b09-4088-bd3d-0cded10fd09e",
   "metadata": {},
   "outputs": [],
   "source": [
    "(X_train, y_train), (X_test, y_test) = imdb.load_data(num_words=10000)\n",
    "\n",
    "X_train = pad_sequences(X_train, maxlen = 100) \n",
    "X_test = pad_sequences(X_test, maxlen = 100) "
   ]
  },
  {
   "cell_type": "code",
   "execution_count": 3,
   "id": "280e75a3-925c-4f5d-b318-e7d309dc3985",
   "metadata": {},
   "outputs": [],
   "source": [
    "model = Sequential([\n",
    "    Embedding(10000, 32, input_length=100),\n",
    "    SimpleRNN(5,return_sequences=True),\n",
    "    SimpleRNN(5),\n",
    "    Dense(1, activation = 'sigmoid')\n",
    "])"
   ]
  },
  {
   "cell_type": "code",
   "execution_count": 4,
   "id": "ad8adc89-ec80-406a-aeec-cd7bace379a6",
   "metadata": {},
   "outputs": [
    {
     "name": "stdout",
     "output_type": "stream",
     "text": [
      "Model: \"sequential\"\n",
      "_________________________________________________________________\n",
      " Layer (type)                Output Shape              Param #   \n",
      "=================================================================\n",
      " embedding (Embedding)       (None, 100, 32)           320000    \n",
      "                                                                 \n",
      " simple_rnn (SimpleRNN)      (None, 100, 5)            190       \n",
      "                                                                 \n",
      " simple_rnn_1 (SimpleRNN)    (None, 5)                 55        \n",
      "                                                                 \n",
      " dense (Dense)               (None, 1)                 6         \n",
      "                                                                 \n",
      "=================================================================\n",
      "Total params: 320251 (1.22 MB)\n",
      "Trainable params: 320251 (1.22 MB)\n",
      "Non-trainable params: 0 (0.00 Byte)\n",
      "_________________________________________________________________\n"
     ]
    }
   ],
   "source": [
    "model.summary()"
   ]
  },
  {
   "cell_type": "code",
   "execution_count": 5,
   "id": "24e91cce-7936-4fc0-8651-c88d14feb020",
   "metadata": {},
   "outputs": [],
   "source": [
    "model.compile(optimizer='adam', loss = 'binary_crossentropy', metrics = ['accuracy'])"
   ]
  },
  {
   "cell_type": "code",
   "execution_count": 6,
   "id": "f88cbe29-3fc4-4693-9d30-9a196f68c418",
   "metadata": {},
   "outputs": [
    {
     "name": "stdout",
     "output_type": "stream",
     "text": [
      "Epoch 1/5\n",
      "625/625 [==============================] - 15s 21ms/step - loss: 0.5213 - accuracy: 0.7491 - val_loss: 0.4688 - val_accuracy: 0.7916\n",
      "Epoch 2/5\n",
      "625/625 [==============================] - 14s 22ms/step - loss: 0.3583 - accuracy: 0.8549 - val_loss: 0.4408 - val_accuracy: 0.8076\n",
      "Epoch 3/5\n",
      "625/625 [==============================] - 13s 21ms/step - loss: 0.2460 - accuracy: 0.9088 - val_loss: 0.4608 - val_accuracy: 0.8022\n",
      "Epoch 4/5\n",
      "625/625 [==============================] - 13s 21ms/step - loss: 0.1629 - accuracy: 0.9466 - val_loss: 0.5221 - val_accuracy: 0.7876\n",
      "Epoch 5/5\n",
      "625/625 [==============================] - 14s 22ms/step - loss: 0.1132 - accuracy: 0.9648 - val_loss: 0.5894 - val_accuracy: 0.7976\n"
     ]
    }
   ],
   "source": [
    "history = model.fit(X_train, y_train, epochs = 5, batch_size = 32, validation_split=0.2)"
   ]
  },
  {
   "cell_type": "code",
   "execution_count": null,
   "id": "d10704c0-535a-47e6-888b-c180627f0e32",
   "metadata": {},
   "outputs": [],
   "source": []
  }
 ],
 "metadata": {
  "kernelspec": {
   "display_name": "Python 3 (ipykernel)",
   "language": "python",
   "name": "python3"
  },
  "language_info": {
   "codemirror_mode": {
    "name": "ipython",
    "version": 3
   },
   "file_extension": ".py",
   "mimetype": "text/x-python",
   "name": "python",
   "nbconvert_exporter": "python",
   "pygments_lexer": "ipython3",
   "version": "3.11.3"
  }
 },
 "nbformat": 4,
 "nbformat_minor": 5
}
